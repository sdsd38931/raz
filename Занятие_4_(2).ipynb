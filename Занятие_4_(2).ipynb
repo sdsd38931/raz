{
  "cells": [
    {
      "cell_type": "markdown",
      "metadata": {
        "id": "view-in-github",
        "colab_type": "text"
      },
      "source": [
        "<a href=\"https://colab.research.google.com/github/sdsd38931/raz/blob/main/%D0%97%D0%B0%D0%BD%D1%8F%D1%82%D0%B8%D0%B5_4_(2).ipynb\" target=\"_parent\"><img src=\"https://colab.research.google.com/assets/colab-badge.svg\" alt=\"Open In Colab\"/></a>"
      ]
    },
    {
      "cell_type": "markdown",
      "metadata": {
        "id": "vYHzqXVG5ZGf"
      },
      "source": [
        "# Анализ и обработка результатов\n",
        "\n",
        "В анализе данных важно наглядное представление результатов, чтобы их мог оценить заказчик. Это бизнес, где на кону громадный трафик, серверные мощности, личное время многотысячной аудитории. И одновременно это исследование.\n",
        "\n",
        "Как в настоящей экспериментальной науке, ответ непредсказуем. Его точность зависит от умелого владения статистическими методами и от качества исходных данных. Перед тем, как начинать считать, проверьте, грамотно ли ваши данные подготовлены.\n",
        "\n",
        "# Группировка данных\n",
        "\n",
        "Слово «анализ» означает разбор, рассмотрение с разных сторон. Анализ данных начинают с разделения их на группы по какому-нибудь признаку. Эта операция называется группировка данных. Она помогает изучить материал более подробно, чтобы затем перейти к поиску взаимосвязей между отдельными группами.\n",
        "\n",
        "\n",
        "Группировка оправданна, если данные чётко делятся по значимому признаку, а полученные группы близки к теме задачи. Например, когда есть данные обо всех покупках в супермаркете, можно смело заниматься группировкой. Так можно установить время наплыва покупателей и решить проблему пиковых нагрузок. Или посчитать средний чек — обычно для магазинов это ключевая метрика.\n",
        "\n",
        "\n",
        "Стадии группировки хорошо укладываются в словесную формулу **split-apply-combine**:\n",
        "\n",
        "•\tразделить, **split** — разбиение на группы по определённому критерию;\n",
        "\n",
        "•\tприменить, **apply** — применение какого-либо метода к каждой группе в отдельности, например, подсчёт численности группы методом count() или суммирование вызовом sum();\n",
        "\n",
        "•\tобъединить, **combine** — сведение результатов в новую структуру данных, в зависимости от условий разделения и выполнения метода это бывает DataFrame и Series.\n",
        "\n",
        "На картинке изображен принцип **split-apply-combine** для таблицы с экзопланетами. Посмотрим, как вообще идут дела с поиском экзопланет. Сначала данные делят по группам, где каждая группа — это год. Потом метод **count()** подсчитывает численность каждой группы. В итоге получаем новую структуру данных с группами, где каждая содержит год и число открытых за этот год экзопланет.\n",
        "\n",
        "![image.png](attachment:image.png)\n",
        "\n",
        "В Рandas для группировки данных есть метод **groupby()**. Он принимает как аргумент название столбца, по которому нужно группировать. В случае с делением экзопланет по годам открытия:\n",
        "\n",
        "**print(exoplanet.groupby('discovered'))**\n",
        "\n",
        "**<pandas.core.groupby.DataFrameGroupBy object at 0x7fc1e1ca3400>**\n",
        "\n",
        "\n",
        "Применение метода **groupby()** к объекту типа DataFrame приводит к созданию объекта особого типа — **DataFrameGroupBy**. Это сгруппированные данные. Если применить к ним какой-нибудь метод Pandas, они станут новой структурой данных типа **DataFrame** или **Series**.\n",
        "Подсчитаем сгруппированные по годам экзопланеты методом **count()**:\n",
        "\n",
        "Если нужно сравнить наблюдения по одному показателю, метод применяют к **DataFrameGroupBy** с указанием на один столбец. Нас в первую очередь интересует радиус экзопланет: мы ищем другую Землю. Давайте получим таблицу с единственным столбцом 'radius':\n",
        "\n",
        "**exo_number = exoplanet.groupby('discovered')['radius'].count()**\n",
        "\n",
        "**print(exo_number)**\n",
        "\n",
        "Получили Series, где по годам открытия расписано количество экзопланет, для которых удалось установить радиус.\n",
        "\n",
        "Посмотрим, как меняется средний радиус открытых экзопланет год от года. Для этого надо сложить радиусы планет, открытых за определённый год, и поделить на их количество (которое мы уже нашли).\n",
        "\n",
        "Сумма радиусов считается методом **sum()**:\n",
        "\n",
        "**exo_radius_sum = exoplanet.groupby('discovered')['radius'].sum()**\n",
        "\n",
        "\n",
        "**print(exo_radius_sum)**\n",
        "\n",
        "\n",
        "\n",
        "## Задача\n",
        "Вашему вниманию предлагается датасет с обзором показателей самоубийств с 1985 по 2016 год — Сравнение социально-экономической информации с показателями самоубийств по годам и странам.\n",
        "\n",
        "Столбцами этой таблицы являются: страна, год, пол, возрастная группа, количество самоубийств, население, уровень самоубийств, сводный ключ по стране за год, ИЧР (индекс человеческого развития) за год, ВВП за год, ВВП на душу населения, поколение (на основе среднего по возрастной группе).\n",
        "\n",
        "1. Загрузите таблицу master, содержащую данные о самоубийствах. Выведите на экран таблицу и оцените данные, обратите внимание на названия столбцов, переименуйте их, если это необходимо.\n",
        "\n",
        "2. Убедитесь в том, что данные прошли предподготовку.  Пропущенные и неопределённые значения выявляет метод isna(), а суммарное количество таких значений — метод sum().\n",
        "\n",
        "3. Сгруппируйте DataFrame по столбцу country, сохраните полученный результат в переменной country_grouping.\n",
        "\n",
        "4. Посчитайте количество случаев самоубийств по странам, которые были совершены, методом **sum()**, указав, что выбираем один столбец suicides_no.\n",
        "\n",
        "Сохраните результат в переменной country_sum и выведите первые 30 строк этой таблицы.\n",
        "\n"
      ]
    },
    {
      "cell_type": "code",
      "execution_count": null,
      "metadata": {
        "scrolled": true,
        "colab": {
          "base_uri": "https://localhost:8080/",
          "height": 1000
        },
        "id": "NCbd-axi5ZGl",
        "outputId": "b4d7bb1c-5e6a-4e8b-cc08-25f002338fe8"
      },
      "outputs": [
        {
          "output_type": "display_data",
          "data": {
            "text/plain": [
              "<IPython.core.display.HTML object>"
            ],
            "text/html": [
              "\n",
              "     <input type=\"file\" id=\"files-a8f7f9f6-b281-46d8-a281-8f6a6981dafd\" name=\"files[]\" multiple disabled\n",
              "        style=\"border:none\" />\n",
              "     <output id=\"result-a8f7f9f6-b281-46d8-a281-8f6a6981dafd\">\n",
              "      Upload widget is only available when the cell has been executed in the\n",
              "      current browser session. Please rerun this cell to enable.\n",
              "      </output>\n",
              "      <script>// Copyright 2017 Google LLC\n",
              "//\n",
              "// Licensed under the Apache License, Version 2.0 (the \"License\");\n",
              "// you may not use this file except in compliance with the License.\n",
              "// You may obtain a copy of the License at\n",
              "//\n",
              "//      http://www.apache.org/licenses/LICENSE-2.0\n",
              "//\n",
              "// Unless required by applicable law or agreed to in writing, software\n",
              "// distributed under the License is distributed on an \"AS IS\" BASIS,\n",
              "// WITHOUT WARRANTIES OR CONDITIONS OF ANY KIND, either express or implied.\n",
              "// See the License for the specific language governing permissions and\n",
              "// limitations under the License.\n",
              "\n",
              "/**\n",
              " * @fileoverview Helpers for google.colab Python module.\n",
              " */\n",
              "(function(scope) {\n",
              "function span(text, styleAttributes = {}) {\n",
              "  const element = document.createElement('span');\n",
              "  element.textContent = text;\n",
              "  for (const key of Object.keys(styleAttributes)) {\n",
              "    element.style[key] = styleAttributes[key];\n",
              "  }\n",
              "  return element;\n",
              "}\n",
              "\n",
              "// Max number of bytes which will be uploaded at a time.\n",
              "const MAX_PAYLOAD_SIZE = 100 * 1024;\n",
              "\n",
              "function _uploadFiles(inputId, outputId) {\n",
              "  const steps = uploadFilesStep(inputId, outputId);\n",
              "  const outputElement = document.getElementById(outputId);\n",
              "  // Cache steps on the outputElement to make it available for the next call\n",
              "  // to uploadFilesContinue from Python.\n",
              "  outputElement.steps = steps;\n",
              "\n",
              "  return _uploadFilesContinue(outputId);\n",
              "}\n",
              "\n",
              "// This is roughly an async generator (not supported in the browser yet),\n",
              "// where there are multiple asynchronous steps and the Python side is going\n",
              "// to poll for completion of each step.\n",
              "// This uses a Promise to block the python side on completion of each step,\n",
              "// then passes the result of the previous step as the input to the next step.\n",
              "function _uploadFilesContinue(outputId) {\n",
              "  const outputElement = document.getElementById(outputId);\n",
              "  const steps = outputElement.steps;\n",
              "\n",
              "  const next = steps.next(outputElement.lastPromiseValue);\n",
              "  return Promise.resolve(next.value.promise).then((value) => {\n",
              "    // Cache the last promise value to make it available to the next\n",
              "    // step of the generator.\n",
              "    outputElement.lastPromiseValue = value;\n",
              "    return next.value.response;\n",
              "  });\n",
              "}\n",
              "\n",
              "/**\n",
              " * Generator function which is called between each async step of the upload\n",
              " * process.\n",
              " * @param {string} inputId Element ID of the input file picker element.\n",
              " * @param {string} outputId Element ID of the output display.\n",
              " * @return {!Iterable<!Object>} Iterable of next steps.\n",
              " */\n",
              "function* uploadFilesStep(inputId, outputId) {\n",
              "  const inputElement = document.getElementById(inputId);\n",
              "  inputElement.disabled = false;\n",
              "\n",
              "  const outputElement = document.getElementById(outputId);\n",
              "  outputElement.innerHTML = '';\n",
              "\n",
              "  const pickedPromise = new Promise((resolve) => {\n",
              "    inputElement.addEventListener('change', (e) => {\n",
              "      resolve(e.target.files);\n",
              "    });\n",
              "  });\n",
              "\n",
              "  const cancel = document.createElement('button');\n",
              "  inputElement.parentElement.appendChild(cancel);\n",
              "  cancel.textContent = 'Cancel upload';\n",
              "  const cancelPromise = new Promise((resolve) => {\n",
              "    cancel.onclick = () => {\n",
              "      resolve(null);\n",
              "    };\n",
              "  });\n",
              "\n",
              "  // Wait for the user to pick the files.\n",
              "  const files = yield {\n",
              "    promise: Promise.race([pickedPromise, cancelPromise]),\n",
              "    response: {\n",
              "      action: 'starting',\n",
              "    }\n",
              "  };\n",
              "\n",
              "  cancel.remove();\n",
              "\n",
              "  // Disable the input element since further picks are not allowed.\n",
              "  inputElement.disabled = true;\n",
              "\n",
              "  if (!files) {\n",
              "    return {\n",
              "      response: {\n",
              "        action: 'complete',\n",
              "      }\n",
              "    };\n",
              "  }\n",
              "\n",
              "  for (const file of files) {\n",
              "    const li = document.createElement('li');\n",
              "    li.append(span(file.name, {fontWeight: 'bold'}));\n",
              "    li.append(span(\n",
              "        `(${file.type || 'n/a'}) - ${file.size} bytes, ` +\n",
              "        `last modified: ${\n",
              "            file.lastModifiedDate ? file.lastModifiedDate.toLocaleDateString() :\n",
              "                                    'n/a'} - `));\n",
              "    const percent = span('0% done');\n",
              "    li.appendChild(percent);\n",
              "\n",
              "    outputElement.appendChild(li);\n",
              "\n",
              "    const fileDataPromise = new Promise((resolve) => {\n",
              "      const reader = new FileReader();\n",
              "      reader.onload = (e) => {\n",
              "        resolve(e.target.result);\n",
              "      };\n",
              "      reader.readAsArrayBuffer(file);\n",
              "    });\n",
              "    // Wait for the data to be ready.\n",
              "    let fileData = yield {\n",
              "      promise: fileDataPromise,\n",
              "      response: {\n",
              "        action: 'continue',\n",
              "      }\n",
              "    };\n",
              "\n",
              "    // Use a chunked sending to avoid message size limits. See b/62115660.\n",
              "    let position = 0;\n",
              "    do {\n",
              "      const length = Math.min(fileData.byteLength - position, MAX_PAYLOAD_SIZE);\n",
              "      const chunk = new Uint8Array(fileData, position, length);\n",
              "      position += length;\n",
              "\n",
              "      const base64 = btoa(String.fromCharCode.apply(null, chunk));\n",
              "      yield {\n",
              "        response: {\n",
              "          action: 'append',\n",
              "          file: file.name,\n",
              "          data: base64,\n",
              "        },\n",
              "      };\n",
              "\n",
              "      let percentDone = fileData.byteLength === 0 ?\n",
              "          100 :\n",
              "          Math.round((position / fileData.byteLength) * 100);\n",
              "      percent.textContent = `${percentDone}% done`;\n",
              "\n",
              "    } while (position < fileData.byteLength);\n",
              "  }\n",
              "\n",
              "  // All done.\n",
              "  yield {\n",
              "    response: {\n",
              "      action: 'complete',\n",
              "    }\n",
              "  };\n",
              "}\n",
              "\n",
              "scope.google = scope.google || {};\n",
              "scope.google.colab = scope.google.colab || {};\n",
              "scope.google.colab._files = {\n",
              "  _uploadFiles,\n",
              "  _uploadFilesContinue,\n",
              "};\n",
              "})(self);\n",
              "</script> "
            ]
          },
          "metadata": {}
        },
        {
          "output_type": "stream",
          "name": "stdout",
          "text": [
            "Saving master.csv to master.csv\n",
            "          country  year     sex          age  suicides_no  population  \\\n",
            "0         Albania  1987    male  15-24 years           21      312900   \n",
            "1         Albania  1987    male  35-54 years           16      308000   \n",
            "2         Albania  1987  female  15-24 years           14      289700   \n",
            "3         Albania  1987    male    75+ years            1       21800   \n",
            "4         Albania  1987    male  25-34 years            9      274300   \n",
            "...           ...   ...     ...          ...          ...         ...   \n",
            "27815  Uzbekistan  2014  female  35-54 years          107     3620833   \n",
            "27816  Uzbekistan  2014  female    75+ years            9      348465   \n",
            "27817  Uzbekistan  2014    male   5-14 years           60     2762158   \n",
            "27818  Uzbekistan  2014  female   5-14 years           44     2631600   \n",
            "27819  Uzbekistan  2014  female  55-74 years           21     1438935   \n",
            "\n",
            "       suicides/100k pop    country-year  HDI for year  gdp_for_year ($)   \\\n",
            "0                   6.71     Albania1987           NaN      2,156,624,900   \n",
            "1                   5.19     Albania1987           NaN      2,156,624,900   \n",
            "2                   4.83     Albania1987           NaN      2,156,624,900   \n",
            "3                   4.59     Albania1987           NaN      2,156,624,900   \n",
            "4                   3.28     Albania1987           NaN      2,156,624,900   \n",
            "...                  ...             ...           ...                ...   \n",
            "27815               2.96  Uzbekistan2014         0.675     63,067,077,179   \n",
            "27816               2.58  Uzbekistan2014         0.675     63,067,077,179   \n",
            "27817               2.17  Uzbekistan2014         0.675     63,067,077,179   \n",
            "27818               1.67  Uzbekistan2014         0.675     63,067,077,179   \n",
            "27819               1.46  Uzbekistan2014         0.675     63,067,077,179   \n",
            "\n",
            "       gdp_per_capita ($)       generation  \n",
            "0                     796     Generation X  \n",
            "1                     796           Silent  \n",
            "2                     796     Generation X  \n",
            "3                     796  G.I. Generation  \n",
            "4                     796          Boomers  \n",
            "...                   ...              ...  \n",
            "27815                2309     Generation X  \n",
            "27816                2309           Silent  \n",
            "27817                2309     Generation Z  \n",
            "27818                2309     Generation Z  \n",
            "27819                2309          Boomers  \n",
            "\n",
            "[27820 rows x 12 columns]\n",
            "country                   0\n",
            "year                      0\n",
            "sex                       0\n",
            "age                       0\n",
            "suicides_no               0\n",
            "population                0\n",
            "suicides/100k pop         0\n",
            "country-year              0\n",
            "HDI for year          19456\n",
            " gdp_for_year ($)         0\n",
            "gdp_per_capita ($)        0\n",
            "generation                0\n",
            "dtype: int64\n",
            "country               0\n",
            "year                  0\n",
            "sex                   0\n",
            "age                   0\n",
            "suicides_no           0\n",
            "population            0\n",
            "suicides/100k pop     0\n",
            "country-year          0\n",
            "HDI for year          0\n",
            " gdp_for_year ($)     0\n",
            "gdp_per_capita ($)    0\n",
            "generation            0\n",
            "dtype: int64\n",
            "                      year  sex  age  suicides_no  population  \\\n",
            "country                                                         \n",
            "Albania                 48   48   48           48          48   \n",
            "Antigua and Barbuda     36   36   36           36          36   \n",
            "Argentina              120  120  120          120         120   \n",
            "Armenia                 96   96   96           96          96   \n",
            "Australia               96   96   96           96          96   \n",
            "...                    ...  ...  ...          ...         ...   \n",
            "United Arab Emirates    24   24   24           24          24   \n",
            "United Kingdom         120  120  120          120         120   \n",
            "United States          120  120  120          120         120   \n",
            "Uruguay                108  108  108          108         108   \n",
            "Uzbekistan              84   84   84           84          84   \n",
            "\n",
            "                      suicides/100k pop  country-year  HDI for year  \\\n",
            "country                                                               \n",
            "Albania                              48            48            48   \n",
            "Antigua and Barbuda                  36            36            36   \n",
            "Argentina                           120           120           120   \n",
            "Armenia                              96            96            96   \n",
            "Australia                            96            96            96   \n",
            "...                                 ...           ...           ...   \n",
            "United Arab Emirates                 24            24            24   \n",
            "United Kingdom                      120           120           120   \n",
            "United States                       120           120           120   \n",
            "Uruguay                             108           108           108   \n",
            "Uzbekistan                           84            84            84   \n",
            "\n",
            "                       gdp_for_year ($)   gdp_per_capita ($)  generation  \n",
            "country                                                                   \n",
            "Albania                               48                  48          48  \n",
            "Antigua and Barbuda                   36                  36          36  \n",
            "Argentina                            120                 120         120  \n",
            "Armenia                               96                  96          96  \n",
            "Australia                             96                  96          96  \n",
            "...                                  ...                 ...         ...  \n",
            "United Arab Emirates                  24                  24          24  \n",
            "United Kingdom                       120                 120         120  \n",
            "United States                        120                 120         120  \n",
            "Uruguay                              108                 108         108  \n",
            "Uzbekistan                            84                  84          84  \n",
            "\n",
            "[90 rows x 11 columns]\n",
            "country\n",
            "Albania                    238\n",
            "Antigua and Barbuda          0\n",
            "Argentina                27485\n",
            "Armenia                    628\n",
            "Australia                19654\n",
            "                         ...  \n",
            "United Arab Emirates       207\n",
            "United Kingdom           45037\n",
            "United States           355963\n",
            "Uruguay                   4365\n",
            "Uzbekistan               12124\n",
            "Name: suicides_no, Length: 90, dtype: int64\n"
          ]
        }
      ],
      "source": [
        "from google.colab import files\n",
        "uploaded = files.upload()\n",
        "import pandas as pd\n",
        "df = pd.read_csv('master.csv')\n",
        "df.head()\n",
        "print(df)\n",
        "print(df.isna().sum())\n",
        "df = df.dropna()\n",
        "print(df.isna().sum())\n",
        "country_grouping = df.groupby('country')\n",
        "print(country_grouping.count())\n",
        "country_suicides = country_grouping['suicides_no'].sum()\n",
        "print(country_suicides)"
      ]
    },
    {
      "cell_type": "markdown",
      "metadata": {
        "id": "EYk77MEg5ZGo"
      },
      "source": [
        "# Сортировка данных\n",
        "\n",
        "\n",
        "Поиск необычного в группе — что среди планет, что среди меломанов — это прежде всего поиск чемпионов: объектов с выдающимися показателями по разным статьям. Как всю таблицу, так и отдельные группы изучают, сортируя строки по какому-либо столбцу.\n",
        "\n",
        "В Pandas для этой операции есть метод **sort_values()**. У него два аргумента:\n",
        "\n",
        "• **by = 'имя столбца'** — имя столбца, по которому нужно сортировать;\n",
        "\n",
        "• **ascending:** по умолчанию True. Для сортировки по убыванию установите значение False.\n",
        "\n",
        "\n",
        "\n",
        "Среди экзопланет интересны близкие по размерам к Земле. Есть ли такие? Отсортируем список по радиусу в порядке возрастания. Тогда в голове таблицы окажутся самые малые, на которых гравитация не прижмёт нас к полу.\n",
        "\n",
        "**print(exoplanet.sort_values(by='radius').head(30))**\n",
        "\n",
        "Оказывается, некоторые из уже открытых экзопланет по размерам близки не то что к Земле, но уже и к Луне! Получим список экзопланет с радиусом меньше земного. Смотрите, как логический оператор (здесь это <) задействуется в отборе элементов столбца. Дальше нам этот приём не раз понадобится.\n",
        "\n",
        "**print(exoplanet[exoplanet['radius'] < 1])**\n",
        "\n",
        "Но и этот список такой длинный, что изучать его лучше по частям. Экзопланеты, близкие по размерам к Земле, за последнее десятилетие открывали нередко. Можно изучать список открытых за каждый год. Например, для 2014 года (вновь обратите внимание на работу логического оператора, теперь это ==):\n",
        "\n",
        "**print(exoplanet[exoplanet['discovered'] == 2014])**\n",
        "\n",
        "А чтобы не тратить время на лишнее, поставим оба условия сразу. Для этого в Pandas есть логический оператор &, подобный оператору and языка Python. Напомним, его смысл на русском языке можно передать словами «и ещё»:\n",
        "\n",
        "**exo_small_14 = exoplanet[ (exoplanet['radius']<1) & (exoplanet['discovered']==2014)]**\n",
        "\n",
        "**print(exo_small_14)**\n",
        "\n",
        "Отсортируем результат в порядке убывания радиуса.\n",
        "\n",
        "**print(exo_small_14.sort_values(by = 'radius', ascending = False))**\n",
        "\n",
        "\n",
        "\n"
      ]
    },
    {
      "cell_type": "markdown",
      "metadata": {
        "id": "xeYDrido5ZGp"
      },
      "source": [
        "## Задача\n",
        "1. Выделим пятерки стран с самым низким и самым высоким уровнем самоубийств в мире."
      ]
    },
    {
      "cell_type": "code",
      "execution_count": null,
      "metadata": {
        "colab": {
          "base_uri": "https://localhost:8080/"
        },
        "id": "7R_KcSCM5ZGr",
        "outputId": "42cbb8b9-ba4e-41e1-ca7c-6ca2736aa75e"
      },
      "outputs": [
        {
          "output_type": "stream",
          "name": "stdout",
          "text": [
            "country\n",
            "United States    355963\n",
            "Japan            259729\n",
            "France           106296\n",
            "Germany           98542\n",
            "Ukraine           85362\n",
            "Name: suicides_no, dtype: int64\n",
            "country\n",
            "Antigua and Barbuda     0\n",
            "Grenada                 3\n",
            "Maldives                4\n",
            "Oman                   20\n",
            "Seychelles             32\n",
            "Name: suicides_no, dtype: int64\n"
          ]
        }
      ],
      "source": [
        "final_sum  = country_suicides.sort_values(ascending=False)\n",
        "final_count = country_suicides.sort_values(ascending=True)\n",
        "print(final_sum.head(5))\n",
        "print(final_count.head(5))\n"
      ]
    },
    {
      "cell_type": "code",
      "execution_count": null,
      "metadata": {
        "scrolled": true,
        "id": "bc-YVpDI5ZGs"
      },
      "outputs": [],
      "source": [
        "#Youre code is here\n"
      ]
    },
    {
      "cell_type": "markdown",
      "metadata": {
        "id": "ah-SsxQ25ZGt"
      },
      "source": [
        "2. Исследуйте распределение количества суидидов по гендерному признаку. Найдите лидеров и антилидеров по количеству самоубийств среди женщин. Повторяется ли картина по сравнению с предыдущим исследованием?"
      ]
    },
    {
      "cell_type": "code",
      "execution_count": null,
      "metadata": {
        "colab": {
          "base_uri": "https://localhost:8080/"
        },
        "id": "4nS6G0N55ZGt",
        "outputId": "8bb20c92-2e1c-40cc-a570-1becf048e546"
      },
      "outputs": [
        {
          "output_type": "stream",
          "name": "stdout",
          "text": [
            "                      year  sex  age  suicides_no  population  \\\n",
            "country                                                         \n",
            "Albania                 24   24   24           24          24   \n",
            "Antigua and Barbuda     18   18   18           18          18   \n",
            "Argentina               60   60   60           60          60   \n",
            "Armenia                 48   48   48           48          48   \n",
            "Australia               48   48   48           48          48   \n",
            "...                    ...  ...  ...          ...         ...   \n",
            "United Arab Emirates    12   12   12           12          12   \n",
            "United Kingdom          60   60   60           60          60   \n",
            "United States           60   60   60           60          60   \n",
            "Uruguay                 54   54   54           54          54   \n",
            "Uzbekistan              42   42   42           42          42   \n",
            "\n",
            "                      suicides/100k pop  country-year  HDI for year  \\\n",
            "country                                                               \n",
            "Albania                              24            24            24   \n",
            "Antigua and Barbuda                  18            18            18   \n",
            "Argentina                            60            60            60   \n",
            "Armenia                              48            48            48   \n",
            "Australia                            48            48            48   \n",
            "...                                 ...           ...           ...   \n",
            "United Arab Emirates                 12            12            12   \n",
            "United Kingdom                       60            60            60   \n",
            "United States                        60            60            60   \n",
            "Uruguay                              54            54            54   \n",
            "Uzbekistan                           42            42            42   \n",
            "\n",
            "                       gdp_for_year ($)   gdp_per_capita ($)  generation  \n",
            "country                                                                   \n",
            "Albania                               24                  24          24  \n",
            "Antigua and Barbuda                   18                  18          18  \n",
            "Argentina                             60                  60          60  \n",
            "Armenia                               48                  48          48  \n",
            "Australia                             48                  48          48  \n",
            "...                                  ...                 ...         ...  \n",
            "United Arab Emirates                  12                  12          12  \n",
            "United Kingdom                        60                  60          60  \n",
            "United States                         60                  60          60  \n",
            "Uruguay                               54                  54          54  \n",
            "Uzbekistan                            42                  42          42  \n",
            "\n",
            "[90 rows x 11 columns]\n",
            "country\n",
            "Japan            80683\n",
            "United States    75033\n",
            "France           28168\n",
            "Germany          26623\n",
            "Brazil           17736\n",
            "Name: suicides_no, dtype: int64\n",
            "country\n",
            "Antigua and Barbuda    0\n",
            "Oman                   0\n",
            "Grenada                0\n",
            "Maldives               0\n",
            "Seychelles             3\n",
            "Name: suicides_no, dtype: int64\n",
            "country               0\n",
            "year                  0\n",
            "sex                   0\n",
            "age                   0\n",
            "suicides_no           0\n",
            "population            0\n",
            "suicides/100k pop     0\n",
            "country-year          0\n",
            "HDI for year          0\n",
            " gdp_for_year ($)     0\n",
            "gdp_per_capita ($)    0\n",
            "generation            0\n",
            "dtype: int64\n"
          ]
        }
      ],
      "source": [
        "female_df = df[df['sex'] == 'female']\n",
        "country_suicides1 = female_df.groupby('country')\n",
        "print(country_suicides1.count())\n",
        "country_suicides2 = country_suicides1['suicides_no'].sum()\n",
        "final_sum2  = country_suicides2.sort_values(ascending=False)\n",
        "final_count2 = country_suicides2.sort_values(ascending=True)\n",
        "print(final_sum2.head(5))\n",
        "print(final_count2.head(5))\n",
        "female_df1 = df[(df['sex'] == 'female')&(df['country'] == 'Russian Federation')&((df['year']>=1995)&(df['year']<=1999))]\n",
        "print(female_df1.count())"
      ]
    },
    {
      "cell_type": "markdown",
      "metadata": {
        "id": "b6r1MP2U5ZGu"
      },
      "source": [
        "# Описательная статистика\n",
        "\n",
        "Чтобы представить себе среднестатистического самоубийцу, понадобится описательная статистика.\n",
        "\n",
        "Из её показателей для количественного описания данных в нашей задаче нужны четыре меры — максимум, минимум, медиана и среднее.\n",
        "\n",
        "Наибольшее и наименьшее обычно вычисляют только по одному признаку. Например, можно получить минимальное и максимальное значение уровня самоубийств (количество самоубийств на 100 тыс.населения) (столбец 'suicides/100k pop'). Для поиска максимума вызывают метод max(), примененный к этому столбцу:\n",
        "\n",
        "print(master['suicides/100k pop'].max())\n"
      ]
    },
    {
      "cell_type": "code",
      "execution_count": null,
      "metadata": {
        "colab": {
          "base_uri": "https://localhost:8080/"
        },
        "id": "SFUYrI1O5ZGv",
        "outputId": "9572a2dc-41a0-4080-fb18-51a26341cbcf"
      },
      "outputs": [
        {
          "output_type": "stream",
          "name": "stdout",
          "text": [
            "187.06\n"
          ]
        }
      ],
      "source": [
        "print(df['suicides/100k pop'].max())"
      ]
    },
    {
      "cell_type": "markdown",
      "metadata": {
        "id": "YxnzpkCm5ZGw"
      },
      "source": [
        "Самый высокий показатель оказался 224.97 самоубийств на 100 тыс.населения. Интересно, в какой стране такая ситуация.\n",
        "\n",
        "Запросим из master строку с максимальным значением, прибегнув к логической индексации с условием\n",
        "\n",
        "**master['suicides/100k pop'] == master['suicides/100k pop'].max()**"
      ]
    },
    {
      "cell_type": "code",
      "execution_count": null,
      "metadata": {
        "colab": {
          "base_uri": "https://localhost:8080/",
          "height": 458
        },
        "id": "tWUk2OjL5ZGx",
        "outputId": "8af3192a-7d9b-406a-85db-75d25db9569c"
      },
      "outputs": [
        {
          "output_type": "execute_result",
          "data": {
            "text/plain": [
              "72       False\n",
              "73       False\n",
              "74       False\n",
              "75       False\n",
              "76       False\n",
              "         ...  \n",
              "27815    False\n",
              "27816    False\n",
              "27817    False\n",
              "27818    False\n",
              "27819    False\n",
              "Name: suicides/100k pop, Length: 8364, dtype: bool"
            ],
            "text/html": [
              "<div>\n",
              "<style scoped>\n",
              "    .dataframe tbody tr th:only-of-type {\n",
              "        vertical-align: middle;\n",
              "    }\n",
              "\n",
              "    .dataframe tbody tr th {\n",
              "        vertical-align: top;\n",
              "    }\n",
              "\n",
              "    .dataframe thead th {\n",
              "        text-align: right;\n",
              "    }\n",
              "</style>\n",
              "<table border=\"1\" class=\"dataframe\">\n",
              "  <thead>\n",
              "    <tr style=\"text-align: right;\">\n",
              "      <th></th>\n",
              "      <th>suicides/100k pop</th>\n",
              "    </tr>\n",
              "  </thead>\n",
              "  <tbody>\n",
              "    <tr>\n",
              "      <th>72</th>\n",
              "      <td>False</td>\n",
              "    </tr>\n",
              "    <tr>\n",
              "      <th>73</th>\n",
              "      <td>False</td>\n",
              "    </tr>\n",
              "    <tr>\n",
              "      <th>74</th>\n",
              "      <td>False</td>\n",
              "    </tr>\n",
              "    <tr>\n",
              "      <th>75</th>\n",
              "      <td>False</td>\n",
              "    </tr>\n",
              "    <tr>\n",
              "      <th>76</th>\n",
              "      <td>False</td>\n",
              "    </tr>\n",
              "    <tr>\n",
              "      <th>...</th>\n",
              "      <td>...</td>\n",
              "    </tr>\n",
              "    <tr>\n",
              "      <th>27815</th>\n",
              "      <td>False</td>\n",
              "    </tr>\n",
              "    <tr>\n",
              "      <th>27816</th>\n",
              "      <td>False</td>\n",
              "    </tr>\n",
              "    <tr>\n",
              "      <th>27817</th>\n",
              "      <td>False</td>\n",
              "    </tr>\n",
              "    <tr>\n",
              "      <th>27818</th>\n",
              "      <td>False</td>\n",
              "    </tr>\n",
              "    <tr>\n",
              "      <th>27819</th>\n",
              "      <td>False</td>\n",
              "    </tr>\n",
              "  </tbody>\n",
              "</table>\n",
              "<p>8364 rows × 1 columns</p>\n",
              "</div><br><label><b>dtype:</b> bool</label>"
            ]
          },
          "metadata": {},
          "execution_count": 24
        }
      ],
      "source": [
        "df['suicides/100k pop'] == df['suicides/100k pop'].max()"
      ]
    },
    {
      "cell_type": "markdown",
      "metadata": {
        "id": "21XeP_Di5ZGx"
      },
      "source": [
        "Минимальное значение — ищут методом **min()**. Нам интересно установить случаи, когда уровень суицидов минимальный, но не нулевой.\n",
        "\n",
        "Вот как мы создаём выборку  и находим в ней минимальное значение:\n",
        "\n",
        "**master_drop_null = master[master['suicides/100k pop'] != 0]**\n",
        "\n",
        "**print(master_drop_null['suicides/100k pop'].min())**\n"
      ]
    },
    {
      "cell_type": "code",
      "execution_count": null,
      "metadata": {
        "colab": {
          "base_uri": "https://localhost:8080/"
        },
        "id": "e6IF1R2d5ZGy",
        "outputId": "5e89d651-e8c9-4086-c55f-21347c759f8f"
      },
      "outputs": [
        {
          "output_type": "stream",
          "name": "stdout",
          "text": [
            "0.02\n"
          ]
        }
      ],
      "source": [
        "master_drop_null = df[df['suicides/100k pop'] != 0]\n",
        "\n",
        "print(master_drop_null['suicides/100k pop'].min())"
      ]
    },
    {
      "cell_type": "markdown",
      "metadata": {
        "id": "uV1NgvL35ZGy"
      },
      "source": [
        "Получим название самой \"счастливой\" страны. Как и при поиске максимума, воспользуемся условием и логической индексацией"
      ]
    },
    {
      "cell_type": "code",
      "execution_count": null,
      "metadata": {
        "colab": {
          "base_uri": "https://localhost:8080/"
        },
        "id": "1_rBs5at5ZGz",
        "outputId": "48a6a240-a76c-4965-9058-20c626e327bc"
      },
      "outputs": [
        {
          "output_type": "stream",
          "name": "stdout",
          "text": [
            "            country  suicides/100k pop\n",
            "23347  South Africa               0.02\n",
            "23479  South Africa               0.02\n"
          ]
        }
      ],
      "source": [
        "happiest_countries = master_drop_null[master_drop_null['suicides/100k pop'] == master_drop_null['suicides/100k pop'].min()]\n",
        "print(happiest_countries[['country', 'suicides/100k pop']])"
      ]
    },
    {
      "cell_type": "markdown",
      "metadata": {
        "id": "z48RFvN85ZG0"
      },
      "source": [
        "Результат вывода — две страны, которые соответствуют минимальному значению.\n",
        "На основе полученных данных можно сделать вывод, что число совершенных самоубийств на 100 тыс. населения  находится в диапазоне от 0,02 до 224.97 секунд, не включая пропущенные.\n",
        "\n",
        "Это знание пригодится, чтобы разобраться с медианой и средним арифметическим.\n",
        "\n",
        "Среднее и медиана оценивают значения в центре выборки. Если тех строк, где число с большим количеством самоубийц, столько же, сколько тех, где это число мало — среднее подойдет. Но когда есть оторванные от основной массы лидеры, их результаты сильно смещают значение среднего вверх. Вот почему оценивать в этом случае лучше медианой.\n",
        "\n",
        "![image.png](attachment:image.png)\n",
        "\n",
        "В геометрии медиана делит фигуру на две равные по площади. В статистике она делит выборку пополам: в одной половине значения меньше медианного, в другой больше. Логично, что для определения медианы список обязательно должен быть отсортирован — либо по возрастанию, либо по убыванию.\n",
        "Когда количество значений нечётное, медиана будет равна тому значению, которое оказалось ровно посередине отсортированного набора. Если же количество данных чётное, то медиана рассчитывается как среднее арифметическое двух соседних чисел в середине набора.\n",
        "\n"
      ]
    },
    {
      "cell_type": "markdown",
      "metadata": {
        "id": "Too2PSEm5ZG0"
      },
      "source": [
        "В Pandas есть метод **median()**, который считает медиану. По аналогии с **min()** и **max()** его можно применять ко всей таблице, к отдельному столбцу или к сгруппированным данным. Теперь применим медиану ко всем значениям времени прослушивания в нашей таблице, исключив нулевые:\n",
        "\n"
      ]
    },
    {
      "cell_type": "code",
      "execution_count": null,
      "metadata": {
        "colab": {
          "base_uri": "https://localhost:8080/"
        },
        "id": "HuZbZCtJ5ZG1",
        "outputId": "c337c796-1f62-43b6-82e3-45dbf18fcd78"
      },
      "outputs": [
        {
          "output_type": "stream",
          "name": "stdout",
          "text": [
            "5.72\n"
          ]
        }
      ],
      "source": [
        "print(df['suicides/100k pop'].median())"
      ]
    },
    {
      "cell_type": "markdown",
      "metadata": {
        "id": "hSmrNaXN5ZG3"
      },
      "source": [
        "Чтобы убедиться, что лидеры действительно смещают средний показатель вверх, найдём среднее арифметическое всех этих значений методом mean():"
      ]
    },
    {
      "cell_type": "code",
      "execution_count": null,
      "metadata": {
        "colab": {
          "base_uri": "https://localhost:8080/"
        },
        "id": "5Tcb103u5ZG3",
        "outputId": "9ab5eb58-3608-4061-dea4-d49ba02499fa"
      },
      "outputs": [
        {
          "output_type": "stream",
          "name": "stdout",
          "text": [
            "64.26666666666667\n"
          ]
        }
      ],
      "source": [
        "print((df['suicides/100k pop'].median()+df['suicides/100k pop'].max()+master_drop_null['suicides/100k pop'].min())/3)"
      ]
    },
    {
      "cell_type": "code",
      "execution_count": null,
      "metadata": {
        "id": "PTs-E9ee5ZG5"
      },
      "outputs": [],
      "source": []
    }
  ],
  "metadata": {
    "kernelspec": {
      "display_name": "Python 3 (ipykernel)",
      "language": "python",
      "name": "python3"
    },
    "language_info": {
      "codemirror_mode": {
        "name": "ipython",
        "version": 3
      },
      "file_extension": ".py",
      "mimetype": "text/x-python",
      "name": "python",
      "nbconvert_exporter": "python",
      "pygments_lexer": "ipython3",
      "version": "3.9.12"
    },
    "colab": {
      "provenance": [],
      "include_colab_link": true
    }
  },
  "nbformat": 4,
  "nbformat_minor": 0
}