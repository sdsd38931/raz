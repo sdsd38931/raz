{
  "cells": [
    {
      "cell_type": "markdown",
      "metadata": {
        "id": "view-in-github",
        "colab_type": "text"
      },
      "source": [
        "<a href=\"https://colab.research.google.com/github/sdsd38931/raz/blob/main/%D0%97%D0%B0%D0%BD%D1%8F%D1%82%D0%B8%D0%B5_7_(%D0%BF%D0%B5%D1%80%D0%B2%D1%8B%D0%B5_%D0%B3%D1%80%D0%B0%D1%84%D0%B8%D0%BA%D0%B8).ipynb\" target=\"_parent\"><img src=\"https://colab.research.google.com/assets/colab-badge.svg\" alt=\"Open In Colab\"/></a>"
      ]
    },
    {
      "cell_type": "markdown",
      "metadata": {
        "id": "-62Al2XQPS3u"
      },
      "source": [
        "# Первые графики и выводы\n",
        "\n",
        "Работа аналитика — не только сами расчёты, но и поиск необычных явлений, артефактов и ошибок в данных. Помогают построение и анализ графиков: визуальное представление позволяет буквально заглянуть в данные, обнаружить проблемы и сделать выводы. Часто неожиданные. Такие непредвиденные открытия могут принести едва ли не больше пользы, чем решение первоначальной задачи.\n",
        "Ваши цели:\n",
        "•\tнаучиться работать с инструментами для построения графиков: **hist(), boxplot(), plot();**\n",
        "\n",
        "•\tнаучиться делать срезы данных;\n",
        "\n",
        "•\tизучить метод **join()** для объединения таблиц и повторить метод **merge()**;\n",
        "\n",
        "•\tразобраться, как определять и интерпретировать взаимосвязи различных данных;\n",
        "\n",
        "•\tнаучиться автоматизировать процесс построения набора графиков.\n",
        "\n",
        "## Знакомство с задачей\n",
        "\n",
        "Как исследовать поведение водителей на заправках? Обратиться к статистике: узнать, на какую именно заправку заезжал водитель и сколько времени там провёл.\n",
        "\n",
        "Ваши коллеги из  собрали необходимые данные и прислали их в таком виде:\n",
        "\n",
        "•\tЗашифрованное наименование сети АЗС (столбец name): вместо брендов — названия растений;\n",
        "\n",
        "•\tУникальный идентификатор конкретной АЗС (столбец id) — в сети их много;\n",
        "\n",
        "•\tВремя заезда на АЗС (столбец date_time) в формате ISO: 20190405T165358 означает, что водитель прибыл на заправку 5 апреля 2019 года в 16 часов 53 минуты 58 секунд по UTC.\n",
        "\n",
        "•\tПроведённое на АЗС время (столбец time_spent) в секундах.\n",
        "\n",
        "Выведем первые строки таблицы методом head():"
      ]
    },
    {
      "cell_type": "code",
      "execution_count": null,
      "metadata": {
        "colab": {
          "base_uri": "https://localhost:8080/",
          "height": 176
        },
        "id": "6TJw10brPS30",
        "outputId": "53fcefeb-41d1-4c1f-9b7f-fec4c781acbe"
      },
      "outputs": [
        {
          "output_type": "display_data",
          "data": {
            "text/plain": [
              "<IPython.core.display.HTML object>"
            ],
            "text/html": [
              "\n",
              "     <input type=\"file\" id=\"files-993c65bf-89e5-4bc8-aa53-bac462543b10\" name=\"files[]\" multiple disabled\n",
              "        style=\"border:none\" />\n",
              "     <output id=\"result-993c65bf-89e5-4bc8-aa53-bac462543b10\">\n",
              "      Upload widget is only available when the cell has been executed in the\n",
              "      current browser session. Please rerun this cell to enable.\n",
              "      </output>\n",
              "      <script>// Copyright 2017 Google LLC\n",
              "//\n",
              "// Licensed under the Apache License, Version 2.0 (the \"License\");\n",
              "// you may not use this file except in compliance with the License.\n",
              "// You may obtain a copy of the License at\n",
              "//\n",
              "//      http://www.apache.org/licenses/LICENSE-2.0\n",
              "//\n",
              "// Unless required by applicable law or agreed to in writing, software\n",
              "// distributed under the License is distributed on an \"AS IS\" BASIS,\n",
              "// WITHOUT WARRANTIES OR CONDITIONS OF ANY KIND, either express or implied.\n",
              "// See the License for the specific language governing permissions and\n",
              "// limitations under the License.\n",
              "\n",
              "/**\n",
              " * @fileoverview Helpers for google.colab Python module.\n",
              " */\n",
              "(function(scope) {\n",
              "function span(text, styleAttributes = {}) {\n",
              "  const element = document.createElement('span');\n",
              "  element.textContent = text;\n",
              "  for (const key of Object.keys(styleAttributes)) {\n",
              "    element.style[key] = styleAttributes[key];\n",
              "  }\n",
              "  return element;\n",
              "}\n",
              "\n",
              "// Max number of bytes which will be uploaded at a time.\n",
              "const MAX_PAYLOAD_SIZE = 100 * 1024;\n",
              "\n",
              "function _uploadFiles(inputId, outputId) {\n",
              "  const steps = uploadFilesStep(inputId, outputId);\n",
              "  const outputElement = document.getElementById(outputId);\n",
              "  // Cache steps on the outputElement to make it available for the next call\n",
              "  // to uploadFilesContinue from Python.\n",
              "  outputElement.steps = steps;\n",
              "\n",
              "  return _uploadFilesContinue(outputId);\n",
              "}\n",
              "\n",
              "// This is roughly an async generator (not supported in the browser yet),\n",
              "// where there are multiple asynchronous steps and the Python side is going\n",
              "// to poll for completion of each step.\n",
              "// This uses a Promise to block the python side on completion of each step,\n",
              "// then passes the result of the previous step as the input to the next step.\n",
              "function _uploadFilesContinue(outputId) {\n",
              "  const outputElement = document.getElementById(outputId);\n",
              "  const steps = outputElement.steps;\n",
              "\n",
              "  const next = steps.next(outputElement.lastPromiseValue);\n",
              "  return Promise.resolve(next.value.promise).then((value) => {\n",
              "    // Cache the last promise value to make it available to the next\n",
              "    // step of the generator.\n",
              "    outputElement.lastPromiseValue = value;\n",
              "    return next.value.response;\n",
              "  });\n",
              "}\n",
              "\n",
              "/**\n",
              " * Generator function which is called between each async step of the upload\n",
              " * process.\n",
              " * @param {string} inputId Element ID of the input file picker element.\n",
              " * @param {string} outputId Element ID of the output display.\n",
              " * @return {!Iterable<!Object>} Iterable of next steps.\n",
              " */\n",
              "function* uploadFilesStep(inputId, outputId) {\n",
              "  const inputElement = document.getElementById(inputId);\n",
              "  inputElement.disabled = false;\n",
              "\n",
              "  const outputElement = document.getElementById(outputId);\n",
              "  outputElement.innerHTML = '';\n",
              "\n",
              "  const pickedPromise = new Promise((resolve) => {\n",
              "    inputElement.addEventListener('change', (e) => {\n",
              "      resolve(e.target.files);\n",
              "    });\n",
              "  });\n",
              "\n",
              "  const cancel = document.createElement('button');\n",
              "  inputElement.parentElement.appendChild(cancel);\n",
              "  cancel.textContent = 'Cancel upload';\n",
              "  const cancelPromise = new Promise((resolve) => {\n",
              "    cancel.onclick = () => {\n",
              "      resolve(null);\n",
              "    };\n",
              "  });\n",
              "\n",
              "  // Wait for the user to pick the files.\n",
              "  const files = yield {\n",
              "    promise: Promise.race([pickedPromise, cancelPromise]),\n",
              "    response: {\n",
              "      action: 'starting',\n",
              "    }\n",
              "  };\n",
              "\n",
              "  cancel.remove();\n",
              "\n",
              "  // Disable the input element since further picks are not allowed.\n",
              "  inputElement.disabled = true;\n",
              "\n",
              "  if (!files) {\n",
              "    return {\n",
              "      response: {\n",
              "        action: 'complete',\n",
              "      }\n",
              "    };\n",
              "  }\n",
              "\n",
              "  for (const file of files) {\n",
              "    const li = document.createElement('li');\n",
              "    li.append(span(file.name, {fontWeight: 'bold'}));\n",
              "    li.append(span(\n",
              "        `(${file.type || 'n/a'}) - ${file.size} bytes, ` +\n",
              "        `last modified: ${\n",
              "            file.lastModifiedDate ? file.lastModifiedDate.toLocaleDateString() :\n",
              "                                    'n/a'} - `));\n",
              "    const percent = span('0% done');\n",
              "    li.appendChild(percent);\n",
              "\n",
              "    outputElement.appendChild(li);\n",
              "\n",
              "    const fileDataPromise = new Promise((resolve) => {\n",
              "      const reader = new FileReader();\n",
              "      reader.onload = (e) => {\n",
              "        resolve(e.target.result);\n",
              "      };\n",
              "      reader.readAsArrayBuffer(file);\n",
              "    });\n",
              "    // Wait for the data to be ready.\n",
              "    let fileData = yield {\n",
              "      promise: fileDataPromise,\n",
              "      response: {\n",
              "        action: 'continue',\n",
              "      }\n",
              "    };\n",
              "\n",
              "    // Use a chunked sending to avoid message size limits. See b/62115660.\n",
              "    let position = 0;\n",
              "    do {\n",
              "      const length = Math.min(fileData.byteLength - position, MAX_PAYLOAD_SIZE);\n",
              "      const chunk = new Uint8Array(fileData, position, length);\n",
              "      position += length;\n",
              "\n",
              "      const base64 = btoa(String.fromCharCode.apply(null, chunk));\n",
              "      yield {\n",
              "        response: {\n",
              "          action: 'append',\n",
              "          file: file.name,\n",
              "          data: base64,\n",
              "        },\n",
              "      };\n",
              "\n",
              "      let percentDone = fileData.byteLength === 0 ?\n",
              "          100 :\n",
              "          Math.round((position / fileData.byteLength) * 100);\n",
              "      percent.textContent = `${percentDone}% done`;\n",
              "\n",
              "    } while (position < fileData.byteLength);\n",
              "  }\n",
              "\n",
              "  // All done.\n",
              "  yield {\n",
              "    response: {\n",
              "      action: 'complete',\n",
              "    }\n",
              "  };\n",
              "}\n",
              "\n",
              "scope.google = scope.google || {};\n",
              "scope.google.colab = scope.google.colab || {};\n",
              "scope.google.colab._files = {\n",
              "  _uploadFiles,\n",
              "  _uploadFilesContinue,\n",
              "};\n",
              "})(self);\n",
              "</script> "
            ]
          },
          "metadata": {}
        },
        {
          "output_type": "stream",
          "name": "stdout",
          "text": [
            "Saving visits.csv to visits.csv\n",
            "             date_time\\tid\\ttime_spent\\tname\n",
            "0   20180406T165358\\t76144fb2\\t98.0\\tВасилек\n",
            "1   20180404T173913\\t76144fb2\\t15.0\\tВасилек\n",
            "2  20180403T172824\\t76144fb2\\t220.0\\tВасилек\n",
            "3   20180407T070441\\t76144fb2\\t19.0\\tВасилек\n",
            "4   20180404T132049\\t76144fb2\\t14.0\\tВасилек\n"
          ]
        }
      ],
      "source": [
        "from google.colab import files\n",
        "uploaded = files.upload()\n",
        "import pandas as pd\n",
        "data = pd.read_csv('visits.csv')\n",
        "print(data.head())"
      ]
    },
    {
      "cell_type": "markdown",
      "metadata": {
        "id": "1KrGwW7yPS32"
      },
      "source": [
        "Вот и первая проблема.\n",
        "\n",
        "Данные склеились в одну строку вместо того, чтобы разбиться по колонкам. Это произошло из-за разделителей в формате **csv**.\n",
        "\n",
        "Напомним, что csv — это Comma-Separated Values, или значения, разделённые запятыми. Действительно, на прошлых занятиях вы работали с таблицами, где строку на колонки делили запятые. Однако вместо них могут быть точки с запятой, знаки табуляции или другие символы. Могут вносить путаницу и десятичные дроби, записанные с запятой.\n",
        "\n",
        "Какими символами разделять колонки и дроби, указывают в параметрах функции **read_csv()**. Разделитель колонок задают параметром **sep** (от англ. separate, «отделять, разделять»), а дробей — параметром **decimal** (англ. «десятичная дробь»):\n",
        "\n",
        "**file = pd.read_csv('file.csv', sep=';', decimal=',')**\n",
        "\n",
        "Прочитайте файл **visits.csv**, указав как разделитель знак табуляции: '\\t', и сохраните результат в датафрейме data. Выведите его первые пять строк.\n"
      ]
    },
    {
      "cell_type": "code",
      "execution_count": null,
      "metadata": {
        "colab": {
          "base_uri": "https://localhost:8080/"
        },
        "id": "i3QZXziVPS32",
        "outputId": "c68ca282-37ab-400c-f583-72397a2df17b"
      },
      "outputs": [
        {
          "output_type": "stream",
          "name": "stdout",
          "text": [
            "         date_time        id time_spent     name\n",
            "0  20180406T165358  76144fb2       98.0  Василек\n",
            "1  20180404T173913  76144fb2       15.0  Василек\n",
            "2  20180403T172824  76144fb2      220.0  Василек\n",
            "3  20180407T070441  76144fb2       19.0  Василек\n",
            "4  20180404T132049  76144fb2       14.0  Василек\n"
          ]
        }
      ],
      "source": [
        " #Youre code is here\n",
        "file = pd.read_csv('visits.csv', sep='\\t', decimal=',')\n",
        "print(data.head())"
      ]
    },
    {
      "cell_type": "markdown",
      "metadata": {
        "id": "3i-xdb3rPS33"
      },
      "source": [
        "## Сводные таблицы для расчёта среднего\n",
        "\n",
        "Нужно узнать, сколько времени в среднем водители тратят на заправку в каждой сети АЗС. В каждой строке датафрейма есть название сети и время, проведённое на АЗС. Занимаясь предобработкой данных, вы применяли pivot_table() — метод для построения сводных таблиц.\n",
        "\n",
        "Напомним его аргументы:\n",
        "\n",
        "•\t**index** — столбец, значения которого становятся названиями строк (индексом);\n",
        "\n",
        "•\t**columns** — столбец, значения которого становятся названиями столбцов;\n",
        "\n",
        "•\t**values** — значения, по которым вы хотите увидеть сводную таблицу;\n",
        "\n",
        "•\t**aggfunc** — функция, применяемая к значениям.\n",
        "\n",
        "Прежде значением **aggfunc** вы указывали sum, то есть складывали элементы столбца. Если параметр **aggfunc** не указывать, то по умолчанию метод **pivot_table()** рассчитает среднее арифметическое значений, указанных в параметре **values**.\n",
        "\n",
        "Посчитайте среднее время заправки в секундах ('**time_spent**') для каждой из сетей ('**name**'), применяя метод **pivot_table()**. Датафрейм сохраните в переменной **name_stat** и выведите на экран.\n"
      ]
    },
    {
      "cell_type": "code",
      "execution_count": null,
      "metadata": {
        "colab": {
          "base_uri": "https://localhost:8080/"
        },
        "id": "-f81tVSePS34",
        "outputId": "5de6339b-7347-48f1-fbaf-2f4e8a4eb051"
      },
      "outputs": [
        {
          "output_type": "stream",
          "name": "stdout",
          "text": [
            "['date_time', 'id', 'time_spent', 'name']\n",
            "date_time      object\n",
            "id             object\n",
            "time_spent    float64\n",
            "name           object\n",
            "dtype: object\n",
            "          time_spent\n",
            "name                \n",
            "Агератум  337.802721\n",
            "Амарант   132.760012\n",
            "Аммобиум  256.708042\n",
            "Арктотис   73.879984\n",
            "Астильба  376.143149\n"
          ]
        }
      ],
      "source": [
        "#Youre code is here\n",
        "print(file.columns.tolist())\n",
        "print(file.dtypes)\n",
        "file['time_spent'] = pd.to_numeric(file['time_spent'], errors='coerce')\n",
        "name_stat = pd.pivot_table(\n",
        "    file,\n",
        "    index='name',\n",
        "    values='time_spent',\n",
        "    fill_value=0\n",
        ")\n",
        "print(name_stat.head())"
      ]
    },
    {
      "cell_type": "markdown",
      "metadata": {
        "id": "w4ax85j1PS34"
      },
      "source": [
        "Сети АЗС «Нарцисс», «Арктотис» и «Малопа» имеют среднее время заправки около 70 секунд. Неправдоподобно мало.\n",
        "\n",
        "В работе с данными почти всегда вас ждут сюрпризы\n",
        "\n",
        "•\tПочему-то выгрузили не те данные, или не всё, что есть;\n",
        "\n",
        "•\tОшибки в алгоритмах, считающих заезды: скажем, время заправки учли неверно.\n",
        "\n",
        "•\tНе тот формат; например, вместо секунд записали минуты.\n",
        "\n",
        "•\tУпущен какой-нибудь существенный факт. Так, водители могли заехать на нерабочую АЗС (а счётчик их учёл) и развернуться, не заправившись (счётчик зафиксировал очень короткое время).\n",
        "\n",
        "Словом, в данных может быть всё, что угодно. Именно вы как аналитик ручаетесь за их реалистичность. Попробуйте оценить, насколько они достоверны. Начните с базовых проверок. Например, несложно ответить на вопросы:\n",
        "\n",
        "•\tСколько всего заездов зафиксировано за время исследования?\n",
        "\n",
        "•\tСколько АЗС?\n",
        "\n",
        "•\tСколько заездов на одну АЗС в день?\n",
        "\n",
        "•\tКакие сети АЗС самые популярные?\n",
        "\n",
        "... и самостоятельно либо с помощью коллег оценить, похожи ли результаты ваших расчётов на правду.\n",
        "Базовая проверка может обнаружить проблему в данных. Или наоборот — свидетельствовать, что с ними всё в порядке. По крайней мере, пока.\n",
        "\n",
        "**Задача 1**. Сколько было заездов на АЗС? Сохраните число строк датафрейма в переменной **total_visits**. . Результат выведите на экран так:\n",
        "\n",
        "Количество заездов: ...\n"
      ]
    },
    {
      "cell_type": "code",
      "execution_count": null,
      "metadata": {
        "colab": {
          "base_uri": "https://localhost:8080/"
        },
        "id": "yWo5YDCkPS35",
        "outputId": "dff66d58-d74f-426d-a2d1-bfe48425d334"
      },
      "outputs": [
        {
          "output_type": "stream",
          "name": "stdout",
          "text": [
            "Количество заездов: 317104\n"
          ]
        }
      ],
      "source": [
        "#Youre code is here\n",
        "total_visits=len(file)\n",
        "print('Количество заездов:',total_visits)"
      ]
    },
    {
      "cell_type": "markdown",
      "metadata": {
        "id": "wATj3usrPS39"
      },
      "source": [
        "**Задача 2**. Найдите количество охваченных исследованием АЗС. Сохраните его в переменной total_stations, результат на экран выведите так:\n",
        "\n",
        "Количество АЗС: ..."
      ]
    },
    {
      "cell_type": "code",
      "execution_count": null,
      "metadata": {
        "colab": {
          "base_uri": "https://localhost:8080/"
        },
        "id": "28yZUkFYPS39",
        "outputId": "72845b3e-5288-4ebf-b850-510f6a513710"
      },
      "outputs": [
        {
          "output_type": "stream",
          "name": "stdout",
          "text": [
            "Количество заездов: 45\n"
          ]
        }
      ],
      "source": [
        "#Youre code is here\n",
        "total_stations=len(name_stat)\n",
        "print('Количество заездов:', total_stations)\n"
      ]
    },
    {
      "cell_type": "markdown",
      "metadata": {
        "id": "v89UfoXKPS3-"
      },
      "source": [
        "**Задача 3**\n",
        "\n",
        "Выведите на экран дату и время первого и последнего заезда на АЗС через пробел. Без объявления новых переменных, примените методы **min()** и **max()** к значениям столбца **data['date_time']** в аргументе функции **print()**.\n",
        "Вывод должен выглядеть так: 20180402T000008 20180408T235957.\n"
      ]
    },
    {
      "cell_type": "code",
      "execution_count": null,
      "metadata": {
        "colab": {
          "base_uri": "https://localhost:8080/"
        },
        "id": "9EgsZTtHPS3-",
        "outputId": "822622df-0cfb-489b-8fbe-380d050c7f9a"
      },
      "outputs": [
        {
          "output_type": "stream",
          "name": "stdout",
          "text": [
            "20180402T000008 20180408T235957\n"
          ]
        }
      ],
      "source": [
        "#Youre code is here\n",
        "print(file['date_time'].min(), file['date_time'].max())\n"
      ]
    },
    {
      "cell_type": "markdown",
      "metadata": {
        "id": "wogONGNHPS3-"
      },
      "source": [
        "**Задача 4**\n",
        "Данные собраны за 7 дней — сохраните это значение в переменной **total_days**.\n",
        "Найдите среднее число заездов на одну АЗС за 1 день. Сохраните результат вычислений в переменной **station_visits_per_day** и выведите её на экран в следующем виде:\n",
        "\n",
        "Количество заездов на АЗС в сутки: ...\n"
      ]
    },
    {
      "cell_type": "code",
      "execution_count": null,
      "metadata": {
        "colab": {
          "base_uri": "https://localhost:8080/"
        },
        "id": "HPC4-F3EPS3_",
        "outputId": "23b04c38-6339-4597-8646-a3ec3c9d042e"
      },
      "outputs": [
        {
          "output_type": "stream",
          "name": "stdout",
          "text": [
            "Количество заездов на АЗС в сутки: 1006.6793650793651\n"
          ]
        }
      ],
      "source": [
        "#Youre code is here\n",
        "total_stations = file['name'].nunique()\n",
        "\n",
        "# Вычисление среднего числа заездов на одну АЗС за 1 день\n",
        "station_visits_per_day = total_visits / total_stations / 7\n",
        "\n",
        "# Вывод результата на экран\n",
        "print('Количество заездов на АЗС в сутки:',station_visits_per_day)\n"
      ]
    },
    {
      "cell_type": "markdown",
      "metadata": {
        "id": "0NKrQkzuPS3_"
      },
      "source": [
        "**Задача 5**\n",
        "\n",
        "Проверьте распределение числа заездов по сетям АЗС. Распечатайте топ-10 сетей с наибольшим числом заездов, используя метод **sort_values**. В каждой строке должно быть название сети и число заездов.\n",
        "Результат выведите в функции print().\n"
      ]
    },
    {
      "cell_type": "code",
      "execution_count": null,
      "metadata": {
        "colab": {
          "base_uri": "https://localhost:8080/"
        },
        "id": "TZlx1qElPS3_",
        "outputId": "9c885e6c-86df-4ed4-a14c-7a8c378a07f0"
      },
      "outputs": [
        {
          "output_type": "stream",
          "name": "stdout",
          "text": [
            "           name  visits\n",
            "21    Календула   85648\n",
            "9       Василек   79006\n",
            "16     Георгина   34356\n",
            "34      Немезия   20138\n",
            "22  Колокольчик   18835\n",
            "30       Мальва   17386\n",
            "14      Гейхера   14125\n",
            "19  Доротеантус    6312\n",
            "31      Нарцисс    3640\n",
            "1       Амарант    3221\n"
          ]
        }
      ],
      "source": [
        " #Youre code is here\n",
        "top_stations = file.groupby('name').size().reset_index(name='visits')\n",
        "\n",
        "# Сортировка по количеству заездов в порядке убывания\n",
        "top_stations = top_stations.sort_values(by='visits', ascending=False)\n",
        "\n",
        "# Выбор топ-10 сетей\n",
        "top_10_stations = top_stations.head(10)\n",
        "\n",
        "print(top_10_stations)"
      ]
    },
    {
      "cell_type": "markdown",
      "metadata": {
        "id": "tsqVU1SjPS3_"
      },
      "source": [
        "# Гистограмма\n",
        "На первый взгляд, данные выглядят корректно.\n",
        "\n",
        "Однако есть гипотеза, что продолжительность заправки посчитана неверно: в некоторых сетях это время выглядит неправдоподобно маленьким. Напомним, вы считали среднее арифметическое. Оно не означает, что столько времени заправляются все водители: кто-то больше, кто-то меньше. Как представить себе значения, из которых рассчитано среднее, если в таблице тысячи строк? Не просматривать же каждую. Для ответа на этот вопрос строят гистограмму.\n",
        "\n",
        "Гистограмма — это график, который показывает, как часто в наборе данных встречается то или иное значение. Гистограмма объединяет числовые значения по диапазонам, то есть считает частоту значений в пределах каждого интервала.\n",
        "\n",
        "\n",
        "В Pandas гистограмму строит специальный метод **hist()** (от англ. histogram — «гистограмма»). Применять его можно к списку или к столбцу датафрейма: во втором случае название столбца передаётся в параметре. Метод **hist()** находит в наборе чисел минимальное и максимальное значения, а полученный диапазон делит на области или корзины. Затем **hist()** считает, сколько значений попало в каждую корзину, и отображает это на графике.\n",
        "Параметр **bins** (англ. «корзины, вёдра») определяет, на сколько областей делить диапазон данных. По умолчанию таких «корзин» 10.\n",
        "\n",
        "Построим гистограмму, отображающую количество шаров в боулинге. Допустим, у нас по одному шару каждого номера от 6 до 16:\n"
      ]
    },
    {
      "cell_type": "code",
      "execution_count": null,
      "metadata": {
        "id": "XRoOx-0cPS3_",
        "outputId": "c37ed208-f026-489f-c487-047f7aed94cc"
      },
      "outputs": [
        {
          "data": {
            "text/plain": [
              "<matplotlib.axes._subplots.AxesSubplot at 0x1fef053e788>"
            ]
          },
          "execution_count": 34,
          "metadata": {},
          "output_type": "execute_result"
        },
        {
          "data": {
            "image/png": "[encoded data removed]",
            "text/plain": [
              "<Figure size 432x288 with 1 Axes>"
            ]
          },
          "metadata": {
            "needs_background": "light"
          },
          "output_type": "display_data"
        }
      ],
      "source": [
        "# строим гистограмму\n",
        "pd.Series([6, 7, 8, 9, 10, 11, 12, 13, 14, 15, 16]).hist()\n"
      ]
    },
    {
      "cell_type": "markdown",
      "metadata": {
        "id": "j3FY0mlsPS4A"
      },
      "source": [
        "Хотя на каждый номер приходится 1 шар, гистограмма не похожа на прямоугольник. Это потому, что по умолчанию параметр **bins=10**, а шаров 11. Передадим соответствующее число корзин и взглянем на полученный график:"
      ]
    },
    {
      "cell_type": "code",
      "execution_count": null,
      "metadata": {
        "id": "dKtjbZTgPS4A",
        "outputId": "b30692b4-781e-433e-8589-2d3f5aa20baa"
      },
      "outputs": [
        {
          "data": {
            "text/plain": [
              "<matplotlib.axes._subplots.AxesSubplot at 0x1fef0572a88>"
            ]
          },
          "execution_count": 35,
          "metadata": {},
          "output_type": "execute_result"
        },
        {
          "data": {
            "image/png": "[encoded data removed]",
            "text/plain": [
              "<Figure size 432x288 with 1 Axes>"
            ]
          },
          "metadata": {
            "needs_background": "light"
          },
          "output_type": "display_data"
        }
      ],
      "source": [
        "pd.Series([6, 7, 8, 9, 10, 11, 12, 13, 14, 15, 16]).hist(bins=11)"
      ]
    },
    {
      "cell_type": "markdown",
      "metadata": {
        "id": "FX2Tx7ItPS4A"
      },
      "source": [
        "Теперь гистограмма соответствует действительности. Что если количество шаров с разными номерами изменится? Скажем, будет два шара под номером 8 и ни одной «семёрки»?"
      ]
    },
    {
      "cell_type": "code",
      "execution_count": null,
      "metadata": {
        "id": "IbBHqMkoPS4A",
        "outputId": "363dfade-be75-4ba2-8680-1e09c0db3505"
      },
      "outputs": [
        {
          "data": {
            "text/plain": [
              "<matplotlib.axes._subplots.AxesSubplot at 0x1fef0437e08>"
            ]
          },
          "execution_count": 36,
          "metadata": {},
          "output_type": "execute_result"
        },
        {
          "data": {
            "image/png": "[encoded data removed]",
            "text/plain": [
              "<Figure size 432x288 with 1 Axes>"
            ]
          },
          "metadata": {
            "needs_background": "light"
          },
          "output_type": "display_data"
        }
      ],
      "source": [
        "pd.Series([6, 8, 8, 9, 10, 11, 12, 13, 14, 15, 16]).hist(bins=11)"
      ]
    },
    {
      "cell_type": "markdown",
      "metadata": {
        "id": "nVTRZvc-PS4A"
      },
      "source": [
        "Провал там, где должно быть значение 7. Частота появления восьмёрки увеличилась вдвое. График выглядит правдоподобно.\n",
        "Что произойдёт, если в данных шестнадцатый шар вдруг станет шаром под номером 100, а пятнадцатый пропадёт вовсе?"
      ]
    },
    {
      "cell_type": "code",
      "execution_count": null,
      "metadata": {
        "id": "c78_YYp-PS4A",
        "outputId": "41bb2f8b-9ad1-45ae-efcb-ac722132b56d"
      },
      "outputs": [
        {
          "data": {
            "text/plain": [
              "<matplotlib.axes._subplots.AxesSubplot at 0x1feefd4a148>"
            ]
          },
          "execution_count": 37,
          "metadata": {},
          "output_type": "execute_result"
        },
        {
          "data": {
            "image/png": "[encoded data removed]",
            "text/plain": [
              "<Figure size 432x288 with 1 Axes>"
            ]
          },
          "metadata": {
            "needs_background": "light"
          },
          "output_type": "display_data"
        }
      ],
      "source": [
        "pd.Series([6, 8, 8, 9, 10, 11, 12, 13, 14, 100]).hist() # убрали параметр bins, так как шаров стало 10"
      ]
    },
    {
      "cell_type": "markdown",
      "metadata": {
        "id": "i3bhPnLEPS4B"
      },
      "source": [
        "9 шаров со значениями в диапазоне от 5 до 15 и 1 шар с номером от 90 до 100. При таком изображении не видно тонких особенностей распределения значений в диапазоне от 5 до 15 — того, что в нём нет семёрки, а восьмёрок пара.\n",
        "Вернём детальность, увеличив число корзин до 100.\n"
      ]
    },
    {
      "cell_type": "code",
      "execution_count": null,
      "metadata": {
        "id": "ezF3mGN6PS4B",
        "outputId": "bad6fa17-6fd7-4784-c04e-cdcfcb95a6f9"
      },
      "outputs": [
        {
          "data": {
            "text/plain": [
              "<matplotlib.axes._subplots.AxesSubplot at 0x1feefd66ec8>"
            ]
          },
          "execution_count": 38,
          "metadata": {},
          "output_type": "execute_result"
        },
        {
          "data": {
            "image/png": "[encoded data removed]",
            "text/plain": [
              "<Figure size 432x288 with 1 Axes>"
            ]
          },
          "metadata": {
            "needs_background": "light"
          },
          "output_type": "display_data"
        }
      ],
      "source": [
        "pd.Series([6, 8, 8, 9, 10, 11, 12, 13, 14, 100]).hist(bins=100)"
      ]
    },
    {
      "cell_type": "markdown",
      "metadata": {
        "id": "_DJuJXqNPS4B"
      },
      "source": [
        "На этом графике видно, что восьмёрка удвоена, а семёрка не встречается вовсе. Увеличив число корзин, мы вернули детализацию, однако гистограмма всё ещё не наглядна. 100 слишком похоже на выброс — значение, сильно отличающееся от других элементов в наборе данных.\n",
        "Изменим масштаб вручную, указав диапазон значений, по которым следует строить график. Границы интересующего нас интервала указывают в параметре range (англ. «диапазон»): **range=(min_value, max_value)**. Нам нужна область от 6 до 14:\n"
      ]
    },
    {
      "cell_type": "code",
      "execution_count": null,
      "metadata": {
        "id": "V5UMQ3gbPS4B",
        "outputId": "6e3dac00-add1-4b56-8d84-2225c2750189"
      },
      "outputs": [
        {
          "data": {
            "text/plain": [
              "<matplotlib.axes._subplots.AxesSubplot at 0x1feefd66788>"
            ]
          },
          "execution_count": 39,
          "metadata": {},
          "output_type": "execute_result"
        },
        {
          "data": {
            "image/png": "[encoded data removed]",
            "text/plain": [
              "<Figure size 432x288 with 1 Axes>"
            ]
          },
          "metadata": {
            "needs_background": "light"
          },
          "output_type": "display_data"
        }
      ],
      "source": [
        "pd.Series([6, 8, 8, 9, 10, 11, 12, 13, 14, 100]).hist(range = (6, 14))"
      ]
    },
    {
      "cell_type": "markdown",
      "metadata": {
        "id": "LBYQmN1oPS4B"
      },
      "source": [
        "Гистограмма даёт представление о структуре данных. В частности, по ней можно понять, откуда взялось такое среднее арифметическое.\n",
        "Вот 2 ряда по 10 чисел: их гистограммы очень разные, а среднее у обеих 5."
      ]
    },
    {
      "cell_type": "code",
      "execution_count": null,
      "metadata": {
        "id": "qiPvgr8hPS4B",
        "outputId": "3a55324a-d0d0-4e48-f726-43befc866d30"
      },
      "outputs": [
        {
          "data": {
            "text/plain": [
              "<matplotlib.axes._subplots.AxesSubplot at 0x1fef01eff88>"
            ]
          },
          "execution_count": 40,
          "metadata": {},
          "output_type": "execute_result"
        },
        {
          "data": {
            "image/png": "[encoded data removed]",
            "text/plain": [
              "<Figure size 432x288 with 1 Axes>"
            ]
          },
          "metadata": {
            "needs_background": "light"
          },
          "output_type": "display_data"
        }
      ],
      "source": [
        "pd.Series([0, 0, 0, 0, 0, 10, 10, 10, 10, 10]).hist(range=(0, 10))"
      ]
    },
    {
      "cell_type": "code",
      "execution_count": null,
      "metadata": {
        "id": "keF9odgIPS4B",
        "outputId": "758d3f52-e8d5-4d7a-b9a3-d404e9a822c3"
      },
      "outputs": [
        {
          "data": {
            "text/plain": [
              "<matplotlib.axes._subplots.AxesSubplot at 0x1feeef6b988>"
            ]
          },
          "execution_count": 41,
          "metadata": {},
          "output_type": "execute_result"
        },
        {
          "data": {
            "image/png": "[encoded data removed]",
            "text/plain": [
              "<Figure size 432x288 with 1 Axes>"
            ]
          },
          "metadata": {
            "needs_background": "light"
          },
          "output_type": "display_data"
        }
      ],
      "source": [
        "pd.Series([4, 5, 5, 5, 5, 5, 5, 5, 5, 5, 6]).hist(range=(0, 10))"
      ]
    },
    {
      "cell_type": "markdown",
      "metadata": {
        "id": "65rHt9lOPS4B"
      },
      "source": [
        "Если бы мы смотрели только на среднее значение этих наборов данных, то сказали бы, что они очень похожи. Однако описывающие их гистограммы дают понять, что это два очень разных явления.\n",
        "Пора применить гистограмму к реальной задаче. Напомним, что средняя продолжительность заправки выглядит неправдоподобно малой.\n",
        "\n",
        "**Задача 1**.\n",
        "Выведите гистограмму значений времени, проведённого на АЗС (столбец data['time_spent'])."
      ]
    },
    {
      "cell_type": "code",
      "execution_count": null,
      "metadata": {
        "colab": {
          "base_uri": "https://localhost:8080/",
          "height": 447
        },
        "id": "8ycdS5CnPS4C",
        "outputId": "1d8641aa-700f-45e8-8f4a-d039582a4a89"
      },
      "outputs": [
        {
          "output_type": "execute_result",
          "data": {
            "text/plain": [
              "<Axes: >"
            ]
          },
          "metadata": {},
          "execution_count": 42
        },
        {
          "output_type": "display_data",
          "data": {
            "text/plain": [
              "<Figure size 640x480 with 1 Axes>"
            ],
            "image/png": "[encoded data removed]"
          },
          "metadata": {}
        }
      ],
      "source": [
        "#Youre code is here\n",
        "\n",
        "pd.Series(data['time_spent']).hist(range=(0, 10))"
      ]
    },
    {
      "cell_type": "markdown",
      "metadata": {
        "id": "ZuWSi4gZPS4C"
      },
      "source": [
        "**Задача 2**\n",
        "Выведите гистограмму значений времени, проведённого на АЗС, с увеличенным до 100 числом столбцов"
      ]
    },
    {
      "cell_type": "code",
      "execution_count": null,
      "metadata": {
        "colab": {
          "base_uri": "https://localhost:8080/",
          "height": 447
        },
        "id": "5qwJj1ooPS4C",
        "outputId": "fd162c54-d71b-457d-9adb-94867e36da1b"
      },
      "outputs": [
        {
          "output_type": "execute_result",
          "data": {
            "text/plain": [
              "<Axes: >"
            ]
          },
          "metadata": {},
          "execution_count": 47
        },
        {
          "output_type": "display_data",
          "data": {
            "text/plain": [
              "<Figure size 640x480 with 1 Axes>"
            ],
            "image/png": "[encoded data removed]"
          },
          "metadata": {}
        }
      ],
      "source": [
        "#Youre code is here\n",
        "pd.Series(data['time_spent']).hist(bins=100, range=(0, 10))"
      ]
    },
    {
      "cell_type": "markdown",
      "metadata": {
        "id": "0vvXwMntPS4C"
      },
      "source": [
        "**Задача 3**\n",
        "Выведите гистограмму значений времени, проведённого на АЗС, с увеличенным до 100 числом столбцов и диапазоном значений от 0 до 1500."
      ]
    },
    {
      "cell_type": "code",
      "execution_count": null,
      "metadata": {
        "colab": {
          "base_uri": "https://localhost:8080/",
          "height": 447
        },
        "id": "C7O-74BEPS4C",
        "outputId": "ddfc896d-5ad3-4aa8-a68b-28ec57c69d7b"
      },
      "outputs": [
        {
          "output_type": "execute_result",
          "data": {
            "text/plain": [
              "<Axes: >"
            ]
          },
          "metadata": {},
          "execution_count": 52
        },
        {
          "output_type": "display_data",
          "data": {
            "text/plain": [
              "<Figure size 640x480 with 1 Axes>"
            ],
            "image/png": "[encoded data removed]"
          },
          "metadata": {}
        }
      ],
      "source": [
        "#Youre code is here\n",
        "pd.Series(data['time_spent']).hist(bins=100, range=(0, 15), edgecolor='black')\n"
      ]
    },
    {
      "cell_type": "markdown",
      "metadata": {
        "id": "k6akvUEZPS4C"
      },
      "source": [
        "Ожидаемое распределение времени заправки — гистограмма с длинным хвостом на высоких значениях и падением в ноль слева от пика, не доходя до нулевого времени заправки. Однако на графике виден высокий пик около 0. Скорее всего, он имеет иную природу. Это не заправки, а ошибки расчётов, проезды сквозь АЗС или что-то ещё."
      ]
    },
    {
      "cell_type": "code",
      "execution_count": null,
      "metadata": {
        "id": "VLzlB_jzPS4C"
      },
      "outputs": [],
      "source": []
    }
  ],
  "metadata": {
    "kernelspec": {
      "display_name": "Python 3 (ipykernel)",
      "language": "python",
      "name": "python3"
    },
    "language_info": {
      "codemirror_mode": {
        "name": "ipython",
        "version": 3
      },
      "file_extension": ".py",
      "mimetype": "text/x-python",
      "name": "python",
      "nbconvert_exporter": "python",
      "pygments_lexer": "ipython3",
      "version": "3.9.12"
    },
    "colab": {
      "provenance": [],
      "include_colab_link": true
    }
  },
  "nbformat": 4,
  "nbformat_minor": 0
}