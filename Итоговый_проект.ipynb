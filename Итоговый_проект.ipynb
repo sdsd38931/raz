{
  "cells": [
    {
      "cell_type": "markdown",
      "metadata": {
        "id": "view-in-github",
        "colab_type": "text"
      },
      "source": [
        "<a href=\"https://colab.research.google.com/github/sdsd38931/raz/blob/main/%D0%98%D1%82%D0%BE%D0%B3%D0%BE%D0%B2%D1%8B%D0%B9_%D0%BF%D1%80%D0%BE%D0%B5%D0%BA%D1%82.ipynb\" target=\"_parent\"><img src=\"https://colab.research.google.com/assets/colab-badge.svg\" alt=\"Open In Colab\"/></a>"
      ]
    },
    {
      "cell_type": "markdown",
      "metadata": {
        "id": "KwyEFCKyf-Pm"
      },
      "source": [
        "\n",
        "# Описание проекта\n",
        "\n",
        "Вам предоставлена выгрузка заказов из CRM компании, занимающейся В2В-продажами.  На основе\n",
        "этих данных вам нужно подготовить дашборд для директора компании, который даст общее\n",
        "понимание ситуации с продажами, наглядно покажет ответы на вопросы:\n",
        "\n",
        "1. Как менеджеры выполняют план продаж?\n",
        "2. Какова помесячная динамика выполнения плана, есть ли сезонные «просадки»?\n",
        "3. Какова география продаж, какие регионы самые доходные?\n",
        "4. Как влияет канал продаж на выполнение плана, конверсию, длительность сделки?\n",
        "5. Какие товарные категории пользуются спросом (по числу клиентов) и по продажам?\n",
        "\n",
        "Дашборд должен дать информацию для принятия решений:\n",
        "Профилировать ли менеджеров по товарным категориям или каналам продаж (где они лучше закрывают сделки, выполняют план)\n",
        "Расширять самые доходные каналы продаж, регионы, где есть высокий спрос\n",
        "\n",
        "\n",
        "Задание\n",
        "\n",
        "Откройте файл с данными и изучите общую информацию\n",
        "Подготовьте данные\n",
        "Проведите исследовательский анализ данных\n",
        "Составьте портрет менеджера каждого региона\n",
        "Проведите исследование статистических показателей\n",
        "Проверьте гипотезы\n",
        "Напишите общий вывод\n"
      ]
    },
    {
      "cell_type": "markdown",
      "metadata": {
        "id": "Egl9ZE0tf-Ps"
      },
      "source": [
        "# Загрузка данных, изучение общей информации"
      ]
    },
    {
      "cell_type": "code",
      "execution_count": 2,
      "metadata": {
        "colab": {
          "base_uri": "https://localhost:8080/",
          "height": 554
        },
        "id": "qnaENA8lf-Ps",
        "outputId": "49cfafaf-f35d-46e4-bc81-85158219af18"
      },
      "outputs": [
        {
          "output_type": "stream",
          "name": "stdout",
          "text": [
            "<class 'pandas.core.frame.DataFrame'>\n",
            "RangeIndex: 116 entries, 0 to 115\n",
            "Data columns (total 13 columns):\n",
            " #   Column                        Non-Null Count  Dtype         \n",
            "---  ------                        --------------  -----         \n",
            " 0   Номер заказа                  116 non-null    int64         \n",
            " 1   Канал продаж                  116 non-null    object        \n",
            " 2   Продуктовый сегмент           116 non-null    object        \n",
            " 3   Менеджер                      116 non-null    object        \n",
            " 4   Название заказа               116 non-null    object        \n",
            " 5   Продавец                      116 non-null    object        \n",
            " 6   Город                         116 non-null    object        \n",
            " 7   Продажи факт, тыс.руб         116 non-null    int64         \n",
            " 8   Продажи план, тыс.руб         116 non-null    int64         \n",
            " 9   Дата сделки                   116 non-null    datetime64[ns]\n",
            " 10  Дата оплаты                   93 non-null     datetime64[ns]\n",
            " 11  Дней между сделкой и оплатой  116 non-null    object        \n",
            " 12  Статус                        116 non-null    object        \n",
            "dtypes: datetime64[ns](2), int64(3), object(8)\n",
            "memory usage: 11.9+ KB\n"
          ]
        },
        {
          "output_type": "execute_result",
          "data": {
            "text/plain": [
              "   Номер заказа     Канал продаж     Продуктовый сегмент  Менеджер  \\\n",
              "0          7290     Рекомендация      Ткань и аксессуары  С. Милер   \n",
              "1          7291     Рекомендация      Ткань и аксессуары  С. Милер   \n",
              "2          7436     Рекомендация      Ткань и аксессуары  С. Милер   \n",
              "3          7484     Рекомендация      Ткань и аксессуары  С. Милер   \n",
              "4          7040  Холодный звонок  Электронные устройства  М. Баили   \n",
              "\n",
              "          Название заказа  Продавец            Город  Продажи факт, тыс.руб  \\\n",
              "0                NAM SUNG  Айсберг   Санкт-Петербург                    300   \n",
              "1                CP Ткань  Айсберг   Санкт-Петербург                    450   \n",
              "2          UNIZIN COMPANY  Айсберг   Санкт-Петербург                      0   \n",
              "3                NAM SUNG  Айсберг   Санкт-Петербург                    500   \n",
              "4  Электронные устройства  Alen.com     Магнитогорск                    100   \n",
              "\n",
              "   Продажи план, тыс.руб Дата сделки Дата оплаты Дней между сделкой и оплатой  \\\n",
              "0                    500  2020-02-03  2020-03-25                           52   \n",
              "1                    500  2020-03-22  2020-04-05                           15   \n",
              "2                    500  2020-03-23         NaT                                \n",
              "3                    500  2020-03-04  2020-03-04                            1   \n",
              "4                   1000  2020-02-19  2020-05-15                           87   \n",
              "\n",
              "       Статус  \n",
              "0     Закрыто  \n",
              "1     Закрыто  \n",
              "2  В процессе  \n",
              "3     Закрыто  \n",
              "4     Закрыто  "
            ],
            "text/html": [
              "\n",
              "  <div id=\"df-f43e2d82-b9d0-4262-affa-221b8df08d32\" class=\"colab-df-container\">\n",
              "    <div>\n",
              "<style scoped>\n",
              "    .dataframe tbody tr th:only-of-type {\n",
              "        vertical-align: middle;\n",
              "    }\n",
              "\n",
              "    .dataframe tbody tr th {\n",
              "        vertical-align: top;\n",
              "    }\n",
              "\n",
              "    .dataframe thead th {\n",
              "        text-align: right;\n",
              "    }\n",
              "</style>\n",
              "<table border=\"1\" class=\"dataframe\">\n",
              "  <thead>\n",
              "    <tr style=\"text-align: right;\">\n",
              "      <th></th>\n",
              "      <th>Номер заказа</th>\n",
              "      <th>Канал продаж</th>\n",
              "      <th>Продуктовый сегмент</th>\n",
              "      <th>Менеджер</th>\n",
              "      <th>Название заказа</th>\n",
              "      <th>Продавец</th>\n",
              "      <th>Город</th>\n",
              "      <th>Продажи факт, тыс.руб</th>\n",
              "      <th>Продажи план, тыс.руб</th>\n",
              "      <th>Дата сделки</th>\n",
              "      <th>Дата оплаты</th>\n",
              "      <th>Дней между сделкой и оплатой</th>\n",
              "      <th>Статус</th>\n",
              "    </tr>\n",
              "  </thead>\n",
              "  <tbody>\n",
              "    <tr>\n",
              "      <th>0</th>\n",
              "      <td>7290</td>\n",
              "      <td>Рекомендация</td>\n",
              "      <td>Ткань и аксессуары</td>\n",
              "      <td>С. Милер</td>\n",
              "      <td>NAM SUNG</td>\n",
              "      <td>Айсберг</td>\n",
              "      <td>Санкт-Петербург</td>\n",
              "      <td>300</td>\n",
              "      <td>500</td>\n",
              "      <td>2020-02-03</td>\n",
              "      <td>2020-03-25</td>\n",
              "      <td>52</td>\n",
              "      <td>Закрыто</td>\n",
              "    </tr>\n",
              "    <tr>\n",
              "      <th>1</th>\n",
              "      <td>7291</td>\n",
              "      <td>Рекомендация</td>\n",
              "      <td>Ткань и аксессуары</td>\n",
              "      <td>С. Милер</td>\n",
              "      <td>CP Ткань</td>\n",
              "      <td>Айсберг</td>\n",
              "      <td>Санкт-Петербург</td>\n",
              "      <td>450</td>\n",
              "      <td>500</td>\n",
              "      <td>2020-03-22</td>\n",
              "      <td>2020-04-05</td>\n",
              "      <td>15</td>\n",
              "      <td>Закрыто</td>\n",
              "    </tr>\n",
              "    <tr>\n",
              "      <th>2</th>\n",
              "      <td>7436</td>\n",
              "      <td>Рекомендация</td>\n",
              "      <td>Ткань и аксессуары</td>\n",
              "      <td>С. Милер</td>\n",
              "      <td>UNIZIN COMPANY</td>\n",
              "      <td>Айсберг</td>\n",
              "      <td>Санкт-Петербург</td>\n",
              "      <td>0</td>\n",
              "      <td>500</td>\n",
              "      <td>2020-03-23</td>\n",
              "      <td>NaT</td>\n",
              "      <td></td>\n",
              "      <td>В процессе</td>\n",
              "    </tr>\n",
              "    <tr>\n",
              "      <th>3</th>\n",
              "      <td>7484</td>\n",
              "      <td>Рекомендация</td>\n",
              "      <td>Ткань и аксессуары</td>\n",
              "      <td>С. Милер</td>\n",
              "      <td>NAM SUNG</td>\n",
              "      <td>Айсберг</td>\n",
              "      <td>Санкт-Петербург</td>\n",
              "      <td>500</td>\n",
              "      <td>500</td>\n",
              "      <td>2020-03-04</td>\n",
              "      <td>2020-03-04</td>\n",
              "      <td>1</td>\n",
              "      <td>Закрыто</td>\n",
              "    </tr>\n",
              "    <tr>\n",
              "      <th>4</th>\n",
              "      <td>7040</td>\n",
              "      <td>Холодный звонок</td>\n",
              "      <td>Электронные устройства</td>\n",
              "      <td>М. Баили</td>\n",
              "      <td>Электронные устройства</td>\n",
              "      <td>Alen.com</td>\n",
              "      <td>Магнитогорск</td>\n",
              "      <td>100</td>\n",
              "      <td>1000</td>\n",
              "      <td>2020-02-19</td>\n",
              "      <td>2020-05-15</td>\n",
              "      <td>87</td>\n",
              "      <td>Закрыто</td>\n",
              "    </tr>\n",
              "  </tbody>\n",
              "</table>\n",
              "</div>\n",
              "    <div class=\"colab-df-buttons\">\n",
              "\n",
              "  <div class=\"colab-df-container\">\n",
              "    <button class=\"colab-df-convert\" onclick=\"convertToInteractive('df-f43e2d82-b9d0-4262-affa-221b8df08d32')\"\n",
              "            title=\"Convert this dataframe to an interactive table.\"\n",
              "            style=\"display:none;\">\n",
              "\n",
              "  <svg xmlns=\"http://www.w3.org/2000/svg\" height=\"24px\" viewBox=\"0 -960 960 960\">\n",
              "    <path d=\"M120-120v-720h720v720H120Zm60-500h600v-160H180v160Zm220 220h160v-160H400v160Zm0 220h160v-160H400v160ZM180-400h160v-160H180v160Zm440 0h160v-160H620v160ZM180-180h160v-160H180v160Zm440 0h160v-160H620v160Z\"/>\n",
              "  </svg>\n",
              "    </button>\n",
              "\n",
              "  <style>\n",
              "    .colab-df-container {\n",
              "      display:flex;\n",
              "      gap: 12px;\n",
              "    }\n",
              "\n",
              "    .colab-df-convert {\n",
              "      background-color: #E8F0FE;\n",
              "      border: none;\n",
              "      border-radius: 50%;\n",
              "      cursor: pointer;\n",
              "      display: none;\n",
              "      fill: #1967D2;\n",
              "      height: 32px;\n",
              "      padding: 0 0 0 0;\n",
              "      width: 32px;\n",
              "    }\n",
              "\n",
              "    .colab-df-convert:hover {\n",
              "      background-color: #E2EBFA;\n",
              "      box-shadow: 0px 1px 2px rgba(60, 64, 67, 0.3), 0px 1px 3px 1px rgba(60, 64, 67, 0.15);\n",
              "      fill: #174EA6;\n",
              "    }\n",
              "\n",
              "    .colab-df-buttons div {\n",
              "      margin-bottom: 4px;\n",
              "    }\n",
              "\n",
              "    [theme=dark] .colab-df-convert {\n",
              "      background-color: #3B4455;\n",
              "      fill: #D2E3FC;\n",
              "    }\n",
              "\n",
              "    [theme=dark] .colab-df-convert:hover {\n",
              "      background-color: #434B5C;\n",
              "      box-shadow: 0px 1px 3px 1px rgba(0, 0, 0, 0.15);\n",
              "      filter: drop-shadow(0px 1px 2px rgba(0, 0, 0, 0.3));\n",
              "      fill: #FFFFFF;\n",
              "    }\n",
              "  </style>\n",
              "\n",
              "    <script>\n",
              "      const buttonEl =\n",
              "        document.querySelector('#df-f43e2d82-b9d0-4262-affa-221b8df08d32 button.colab-df-convert');\n",
              "      buttonEl.style.display =\n",
              "        google.colab.kernel.accessAllowed ? 'block' : 'none';\n",
              "\n",
              "      async function convertToInteractive(key) {\n",
              "        const element = document.querySelector('#df-f43e2d82-b9d0-4262-affa-221b8df08d32');\n",
              "        const dataTable =\n",
              "          await google.colab.kernel.invokeFunction('convertToInteractive',\n",
              "                                                    [key], {});\n",
              "        if (!dataTable) return;\n",
              "\n",
              "        const docLinkHtml = 'Like what you see? Visit the ' +\n",
              "          '<a target=\"_blank\" href=https://colab.research.google.com/notebooks/data_table.ipynb>data table notebook</a>'\n",
              "          + ' to learn more about interactive tables.';\n",
              "        element.innerHTML = '';\n",
              "        dataTable['output_type'] = 'display_data';\n",
              "        await google.colab.output.renderOutput(dataTable, element);\n",
              "        const docLink = document.createElement('div');\n",
              "        docLink.innerHTML = docLinkHtml;\n",
              "        element.appendChild(docLink);\n",
              "      }\n",
              "    </script>\n",
              "  </div>\n",
              "\n",
              "\n",
              "<div id=\"df-f7006337-e6ec-4332-a07b-dc290608f70d\">\n",
              "  <button class=\"colab-df-quickchart\" onclick=\"quickchart('df-f7006337-e6ec-4332-a07b-dc290608f70d')\"\n",
              "            title=\"Suggest charts\"\n",
              "            style=\"display:none;\">\n",
              "\n",
              "<svg xmlns=\"http://www.w3.org/2000/svg\" height=\"24px\"viewBox=\"0 0 24 24\"\n",
              "     width=\"24px\">\n",
              "    <g>\n",
              "        <path d=\"M19 3H5c-1.1 0-2 .9-2 2v14c0 1.1.9 2 2 2h14c1.1 0 2-.9 2-2V5c0-1.1-.9-2-2-2zM9 17H7v-7h2v7zm4 0h-2V7h2v10zm4 0h-2v-4h2v4z\"/>\n",
              "    </g>\n",
              "</svg>\n",
              "  </button>\n",
              "\n",
              "<style>\n",
              "  .colab-df-quickchart {\n",
              "      --bg-color: #E8F0FE;\n",
              "      --fill-color: #1967D2;\n",
              "      --hover-bg-color: #E2EBFA;\n",
              "      --hover-fill-color: #174EA6;\n",
              "      --disabled-fill-color: #AAA;\n",
              "      --disabled-bg-color: #DDD;\n",
              "  }\n",
              "\n",
              "  [theme=dark] .colab-df-quickchart {\n",
              "      --bg-color: #3B4455;\n",
              "      --fill-color: #D2E3FC;\n",
              "      --hover-bg-color: #434B5C;\n",
              "      --hover-fill-color: #FFFFFF;\n",
              "      --disabled-bg-color: #3B4455;\n",
              "      --disabled-fill-color: #666;\n",
              "  }\n",
              "\n",
              "  .colab-df-quickchart {\n",
              "    background-color: var(--bg-color);\n",
              "    border: none;\n",
              "    border-radius: 50%;\n",
              "    cursor: pointer;\n",
              "    display: none;\n",
              "    fill: var(--fill-color);\n",
              "    height: 32px;\n",
              "    padding: 0;\n",
              "    width: 32px;\n",
              "  }\n",
              "\n",
              "  .colab-df-quickchart:hover {\n",
              "    background-color: var(--hover-bg-color);\n",
              "    box-shadow: 0 1px 2px rgba(60, 64, 67, 0.3), 0 1px 3px 1px rgba(60, 64, 67, 0.15);\n",
              "    fill: var(--button-hover-fill-color);\n",
              "  }\n",
              "\n",
              "  .colab-df-quickchart-complete:disabled,\n",
              "  .colab-df-quickchart-complete:disabled:hover {\n",
              "    background-color: var(--disabled-bg-color);\n",
              "    fill: var(--disabled-fill-color);\n",
              "    box-shadow: none;\n",
              "  }\n",
              "\n",
              "  .colab-df-spinner {\n",
              "    border: 2px solid var(--fill-color);\n",
              "    border-color: transparent;\n",
              "    border-bottom-color: var(--fill-color);\n",
              "    animation:\n",
              "      spin 1s steps(1) infinite;\n",
              "  }\n",
              "\n",
              "  @keyframes spin {\n",
              "    0% {\n",
              "      border-color: transparent;\n",
              "      border-bottom-color: var(--fill-color);\n",
              "      border-left-color: var(--fill-color);\n",
              "    }\n",
              "    20% {\n",
              "      border-color: transparent;\n",
              "      border-left-color: var(--fill-color);\n",
              "      border-top-color: var(--fill-color);\n",
              "    }\n",
              "    30% {\n",
              "      border-color: transparent;\n",
              "      border-left-color: var(--fill-color);\n",
              "      border-top-color: var(--fill-color);\n",
              "      border-right-color: var(--fill-color);\n",
              "    }\n",
              "    40% {\n",
              "      border-color: transparent;\n",
              "      border-right-color: var(--fill-color);\n",
              "      border-top-color: var(--fill-color);\n",
              "    }\n",
              "    60% {\n",
              "      border-color: transparent;\n",
              "      border-right-color: var(--fill-color);\n",
              "    }\n",
              "    80% {\n",
              "      border-color: transparent;\n",
              "      border-right-color: var(--fill-color);\n",
              "      border-bottom-color: var(--fill-color);\n",
              "    }\n",
              "    90% {\n",
              "      border-color: transparent;\n",
              "      border-bottom-color: var(--fill-color);\n",
              "    }\n",
              "  }\n",
              "</style>\n",
              "\n",
              "  <script>\n",
              "    async function quickchart(key) {\n",
              "      const quickchartButtonEl =\n",
              "        document.querySelector('#' + key + ' button');\n",
              "      quickchartButtonEl.disabled = true;  // To prevent multiple clicks.\n",
              "      quickchartButtonEl.classList.add('colab-df-spinner');\n",
              "      try {\n",
              "        const charts = await google.colab.kernel.invokeFunction(\n",
              "            'suggestCharts', [key], {});\n",
              "      } catch (error) {\n",
              "        console.error('Error during call to suggestCharts:', error);\n",
              "      }\n",
              "      quickchartButtonEl.classList.remove('colab-df-spinner');\n",
              "      quickchartButtonEl.classList.add('colab-df-quickchart-complete');\n",
              "    }\n",
              "    (() => {\n",
              "      let quickchartButtonEl =\n",
              "        document.querySelector('#df-f7006337-e6ec-4332-a07b-dc290608f70d button');\n",
              "      quickchartButtonEl.style.display =\n",
              "        google.colab.kernel.accessAllowed ? 'block' : 'none';\n",
              "    })();\n",
              "  </script>\n",
              "</div>\n",
              "    </div>\n",
              "  </div>\n"
            ],
            "application/vnd.google.colaboratory.intrinsic+json": {
              "type": "dataframe",
              "variable_name": "df",
              "summary": "{\n  \"name\": \"df\",\n  \"rows\": 116,\n  \"fields\": [\n    {\n      \"column\": \"\\u041d\\u043e\\u043c\\u0435\\u0440 \\u0437\\u0430\\u043a\\u0430\\u0437\\u0430\",\n      \"properties\": {\n        \"dtype\": \"number\",\n        \"std\": 155,\n        \"min\": 6645,\n        \"max\": 7512,\n        \"num_unique_values\": 116,\n        \"samples\": [\n          7379,\n          7040,\n          7161\n        ],\n        \"semantic_type\": \"\",\n        \"description\": \"\"\n      }\n    },\n    {\n      \"column\": \"\\u041a\\u0430\\u043d\\u0430\\u043b \\u043f\\u0440\\u043e\\u0434\\u0430\\u0436\",\n      \"properties\": {\n        \"dtype\": \"category\",\n        \"num_unique_values\": 6,\n        \"samples\": [\n          \"\\u0420\\u0435\\u043a\\u043e\\u043c\\u0435\\u043d\\u0434\\u0430\\u0446\\u0438\\u044f\",\n          \"\\u0425\\u043e\\u043b\\u043e\\u0434\\u043d\\u044b\\u0439 \\u0437\\u0432\\u043e\\u043d\\u043e\\u043a\",\n          \"\\u0412\\u0435\\u0431\\u0441\\u0430\\u0439\\u0442\"\n        ],\n        \"semantic_type\": \"\",\n        \"description\": \"\"\n      }\n    },\n    {\n      \"column\": \"\\u041f\\u0440\\u043e\\u0434\\u0443\\u043a\\u0442\\u043e\\u0432\\u044b\\u0439 \\u0441\\u0435\\u0433\\u043c\\u0435\\u043d\\u0442\",\n      \"properties\": {\n        \"dtype\": \"category\",\n        \"num_unique_values\": 15,\n        \"samples\": [\n          \"\\u0423\\u043f\\u0430\\u043a\\u043e\\u0432\\u043a\\u0430\",\n          \"\\u0421\\u043f\\u043e\\u0440\\u0442 \\u0442\\u043e\\u0432\\u0430\\u0440\\u044b\",\n          \"\\u0422\\u043a\\u0430\\u043d\\u044c \\u0438 \\u0430\\u043a\\u0441\\u0435\\u0441\\u0441\\u0443\\u0430\\u0440\\u044b\"\n        ],\n        \"semantic_type\": \"\",\n        \"description\": \"\"\n      }\n    },\n    {\n      \"column\": \"\\u041c\\u0435\\u043d\\u0435\\u0434\\u0436\\u0435\\u0440\",\n      \"properties\": {\n        \"dtype\": \"category\",\n        \"num_unique_values\": 6,\n        \"samples\": [\n          \"\\u0421. \\u041c\\u0438\\u043b\\u0435\\u0440\",\n          \"\\u041c. \\u0411\\u0430\\u0438\\u043b\\u0438\",\n          \"\\u0410. \\u041f\\u0435\\u0440\\u0440\\u0438\"\n        ],\n        \"semantic_type\": \"\",\n        \"description\": \"\"\n      }\n    },\n    {\n      \"column\": \"\\u041d\\u0430\\u0437\\u0432\\u0430\\u043d\\u0438\\u0435 \\u0437\\u0430\\u043a\\u0430\\u0437\\u0430\",\n      \"properties\": {\n        \"dtype\": \"string\",\n        \"num_unique_values\": 92,\n        \"samples\": [\n          \"\\u041a\\u0430\\u0431\\u0435\\u043b\\u044c lcl\",\n          \"PUJIANG SALE CRAFT CO.,LTD\",\n          \"IAE 5528 / P 40996\"\n        ],\n        \"semantic_type\": \"\",\n        \"description\": \"\"\n      }\n    },\n    {\n      \"column\": \"\\u041f\\u0440\\u043e\\u0434\\u0430\\u0432\\u0435\\u0446\",\n      \"properties\": {\n        \"dtype\": \"category\",\n        \"num_unique_values\": 31,\n        \"samples\": [\n          \"Expert\",\n          \"Leorada +\",\n          \"SDF Logystics\"\n        ],\n        \"semantic_type\": \"\",\n        \"description\": \"\"\n      }\n    },\n    {\n      \"column\": \"\\u0413\\u043e\\u0440\\u043e\\u0434\",\n      \"properties\": {\n        \"dtype\": \"category\",\n        \"num_unique_values\": 23,\n        \"samples\": [\n          \"\\u041d\\u043e\\u0432\\u043e\\u0441\\u0438\\u0431\\u0438\\u0440\\u0441\\u043a\",\n          \"\\u0421\\u043e\\u0447\\u0438\",\n          \"\\u0421\\u0430\\u043d\\u043a\\u0442-\\u041f\\u0435\\u0442\\u0435\\u0440\\u0431\\u0443\\u0440\\u0433\"\n        ],\n        \"semantic_type\": \"\",\n        \"description\": \"\"\n      }\n    },\n    {\n      \"column\": \"\\u041f\\u0440\\u043e\\u0434\\u0430\\u0436\\u0438 \\u0444\\u0430\\u043a\\u0442, \\u0442\\u044b\\u0441.\\u0440\\u0443\\u0431\",\n      \"properties\": {\n        \"dtype\": \"number\",\n        \"std\": 547,\n        \"min\": 0,\n        \"max\": 2400,\n        \"num_unique_values\": 48,\n        \"samples\": [\n          145,\n          2200,\n          740\n        ],\n        \"semantic_type\": \"\",\n        \"description\": \"\"\n      }\n    },\n    {\n      \"column\": \"\\u041f\\u0440\\u043e\\u0434\\u0430\\u0436\\u0438 \\u043f\\u043b\\u0430\\u043d, \\u0442\\u044b\\u0441.\\u0440\\u0443\\u0431\",\n      \"properties\": {\n        \"dtype\": \"number\",\n        \"std\": 250,\n        \"min\": 500,\n        \"max\": 1000,\n        \"num_unique_values\": 2,\n        \"samples\": [\n          1000,\n          500\n        ],\n        \"semantic_type\": \"\",\n        \"description\": \"\"\n      }\n    },\n    {\n      \"column\": \"\\u0414\\u0430\\u0442\\u0430 \\u0441\\u0434\\u0435\\u043b\\u043a\\u0438\",\n      \"properties\": {\n        \"dtype\": \"date\",\n        \"min\": \"2019-06-03 00:00:00\",\n        \"max\": \"2020-06-27 00:00:00\",\n        \"num_unique_values\": 62,\n        \"samples\": [\n          \"2020-02-28 00:00:00\",\n          \"2020-06-19 00:00:00\"\n        ],\n        \"semantic_type\": \"\",\n        \"description\": \"\"\n      }\n    },\n    {\n      \"column\": \"\\u0414\\u0430\\u0442\\u0430 \\u043e\\u043f\\u043b\\u0430\\u0442\\u044b\",\n      \"properties\": {\n        \"dtype\": \"date\",\n        \"min\": \"2020-01-04 00:00:00\",\n        \"max\": \"2020-06-25 00:00:00\",\n        \"num_unique_values\": 48,\n        \"samples\": [\n          \"2020-03-13 00:00:00\",\n          \"2020-06-05 00:00:00\"\n        ],\n        \"semantic_type\": \"\",\n        \"description\": \"\"\n      }\n    },\n    {\n      \"column\": \"\\u0414\\u043d\\u0435\\u0439 \\u043c\\u0435\\u0436\\u0434\\u0443 \\u0441\\u0434\\u0435\\u043b\\u043a\\u043e\\u0439 \\u0438 \\u043e\\u043f\\u043b\\u0430\\u0442\\u043e\\u0439\",\n      \"properties\": {\n        \"dtype\": \"category\",\n        \"num_unique_values\": 40,\n        \"samples\": [\n          82,\n          83\n        ],\n        \"semantic_type\": \"\",\n        \"description\": \"\"\n      }\n    },\n    {\n      \"column\": \"\\u0421\\u0442\\u0430\\u0442\\u0443\\u0441\",\n      \"properties\": {\n        \"dtype\": \"category\",\n        \"num_unique_values\": 3,\n        \"samples\": [\n          \"\\u0417\\u0430\\u043a\\u0440\\u044b\\u0442\\u043e\",\n          \"\\u0412 \\u043f\\u0440\\u043e\\u0446\\u0435\\u0441\\u0441\\u0435\"\n        ],\n        \"semantic_type\": \"\",\n        \"description\": \"\"\n      }\n    }\n  ]\n}"
            }
          },
          "metadata": {},
          "execution_count": 2
        }
      ],
      "source": [
        "#Youre code is here\n",
        "from google.colab import files\n",
        "#uploaded = files.upload()\n",
        "import pandas as pd\n",
        "df = pd.read_excel('data.xlsx')\n",
        "df.info()\n",
        "df.head(5)"
      ]
    },
    {
      "cell_type": "markdown",
      "metadata": {
        "id": "9fWXcYJtf-Pu"
      },
      "source": [
        "# Подготовка данных\n",
        "\n",
        "Замените названия столбцов при необходимости (приведите к нижнему регистру); Преобразуйте данные в нужные типы. Опишите, в каких столбцах заменили тип данных и почему; Обработайте пропуски при необходимости: Объясните, почему заполнили пропуски определённым образом или почему не стали это делать; Опишите причины, которые могли привести к пропускам; Посчитайте суммарные фактические продажи по всем городам и запишите их в отдельный столбец."
      ]
    },
    {
      "cell_type": "code",
      "execution_count": 7,
      "metadata": {
        "colab": {
          "base_uri": "https://localhost:8080/",
          "height": 81
        },
        "id": "LY_JCBUbf-Pv",
        "outputId": "13657157-d861-4f90-8199-0c545d13b84b"
      },
      "outputs": [
        {
          "output_type": "execute_result",
          "data": {
            "text/plain": [
              "   номер заказа  канал продаж продуктовый сегмент  менеджер название заказа  \\\n",
              "0          7290  Рекомендация  Ткань и аксессуары  С. Милер        NAM SUNG   \n",
              "\n",
              "   продавец            город  продажи факт, тыс.руб  продажи план, тыс.руб  \\\n",
              "0  Айсберг   Санкт-Петербург                  300.0                  500.0   \n",
              "\n",
              "  дата сделки дата оплаты дней между сделкой и оплатой   статус  \\\n",
              "0  2020-02-03  2020-03-25                           52  Закрыто   \n",
              "\n",
              "   суммарные продажи  \n",
              "0             1370.0  "
            ],
            "text/html": [
              "\n",
              "  <div id=\"df-0665a5ea-128f-4f52-a1e6-cf83e261ac3e\" class=\"colab-df-container\">\n",
              "    <div>\n",
              "<style scoped>\n",
              "    .dataframe tbody tr th:only-of-type {\n",
              "        vertical-align: middle;\n",
              "    }\n",
              "\n",
              "    .dataframe tbody tr th {\n",
              "        vertical-align: top;\n",
              "    }\n",
              "\n",
              "    .dataframe thead th {\n",
              "        text-align: right;\n",
              "    }\n",
              "</style>\n",
              "<table border=\"1\" class=\"dataframe\">\n",
              "  <thead>\n",
              "    <tr style=\"text-align: right;\">\n",
              "      <th></th>\n",
              "      <th>номер заказа</th>\n",
              "      <th>канал продаж</th>\n",
              "      <th>продуктовый сегмент</th>\n",
              "      <th>менеджер</th>\n",
              "      <th>название заказа</th>\n",
              "      <th>продавец</th>\n",
              "      <th>город</th>\n",
              "      <th>продажи факт, тыс.руб</th>\n",
              "      <th>продажи план, тыс.руб</th>\n",
              "      <th>дата сделки</th>\n",
              "      <th>дата оплаты</th>\n",
              "      <th>дней между сделкой и оплатой</th>\n",
              "      <th>статус</th>\n",
              "      <th>суммарные продажи</th>\n",
              "    </tr>\n",
              "  </thead>\n",
              "  <tbody>\n",
              "    <tr>\n",
              "      <th>0</th>\n",
              "      <td>7290</td>\n",
              "      <td>Рекомендация</td>\n",
              "      <td>Ткань и аксессуары</td>\n",
              "      <td>С. Милер</td>\n",
              "      <td>NAM SUNG</td>\n",
              "      <td>Айсберг</td>\n",
              "      <td>Санкт-Петербург</td>\n",
              "      <td>300.0</td>\n",
              "      <td>500.0</td>\n",
              "      <td>2020-02-03</td>\n",
              "      <td>2020-03-25</td>\n",
              "      <td>52</td>\n",
              "      <td>Закрыто</td>\n",
              "      <td>1370.0</td>\n",
              "    </tr>\n",
              "  </tbody>\n",
              "</table>\n",
              "</div>\n",
              "    <div class=\"colab-df-buttons\">\n",
              "\n",
              "  <div class=\"colab-df-container\">\n",
              "    <button class=\"colab-df-convert\" onclick=\"convertToInteractive('df-0665a5ea-128f-4f52-a1e6-cf83e261ac3e')\"\n",
              "            title=\"Convert this dataframe to an interactive table.\"\n",
              "            style=\"display:none;\">\n",
              "\n",
              "  <svg xmlns=\"http://www.w3.org/2000/svg\" height=\"24px\" viewBox=\"0 -960 960 960\">\n",
              "    <path d=\"M120-120v-720h720v720H120Zm60-500h600v-160H180v160Zm220 220h160v-160H400v160Zm0 220h160v-160H400v160ZM180-400h160v-160H180v160Zm440 0h160v-160H620v160ZM180-180h160v-160H180v160Zm440 0h160v-160H620v160Z\"/>\n",
              "  </svg>\n",
              "    </button>\n",
              "\n",
              "  <style>\n",
              "    .colab-df-container {\n",
              "      display:flex;\n",
              "      gap: 12px;\n",
              "    }\n",
              "\n",
              "    .colab-df-convert {\n",
              "      background-color: #E8F0FE;\n",
              "      border: none;\n",
              "      border-radius: 50%;\n",
              "      cursor: pointer;\n",
              "      display: none;\n",
              "      fill: #1967D2;\n",
              "      height: 32px;\n",
              "      padding: 0 0 0 0;\n",
              "      width: 32px;\n",
              "    }\n",
              "\n",
              "    .colab-df-convert:hover {\n",
              "      background-color: #E2EBFA;\n",
              "      box-shadow: 0px 1px 2px rgba(60, 64, 67, 0.3), 0px 1px 3px 1px rgba(60, 64, 67, 0.15);\n",
              "      fill: #174EA6;\n",
              "    }\n",
              "\n",
              "    .colab-df-buttons div {\n",
              "      margin-bottom: 4px;\n",
              "    }\n",
              "\n",
              "    [theme=dark] .colab-df-convert {\n",
              "      background-color: #3B4455;\n",
              "      fill: #D2E3FC;\n",
              "    }\n",
              "\n",
              "    [theme=dark] .colab-df-convert:hover {\n",
              "      background-color: #434B5C;\n",
              "      box-shadow: 0px 1px 3px 1px rgba(0, 0, 0, 0.15);\n",
              "      filter: drop-shadow(0px 1px 2px rgba(0, 0, 0, 0.3));\n",
              "      fill: #FFFFFF;\n",
              "    }\n",
              "  </style>\n",
              "\n",
              "    <script>\n",
              "      const buttonEl =\n",
              "        document.querySelector('#df-0665a5ea-128f-4f52-a1e6-cf83e261ac3e button.colab-df-convert');\n",
              "      buttonEl.style.display =\n",
              "        google.colab.kernel.accessAllowed ? 'block' : 'none';\n",
              "\n",
              "      async function convertToInteractive(key) {\n",
              "        const element = document.querySelector('#df-0665a5ea-128f-4f52-a1e6-cf83e261ac3e');\n",
              "        const dataTable =\n",
              "          await google.colab.kernel.invokeFunction('convertToInteractive',\n",
              "                                                    [key], {});\n",
              "        if (!dataTable) return;\n",
              "\n",
              "        const docLinkHtml = 'Like what you see? Visit the ' +\n",
              "          '<a target=\"_blank\" href=https://colab.research.google.com/notebooks/data_table.ipynb>data table notebook</a>'\n",
              "          + ' to learn more about interactive tables.';\n",
              "        element.innerHTML = '';\n",
              "        dataTable['output_type'] = 'display_data';\n",
              "        await google.colab.output.renderOutput(dataTable, element);\n",
              "        const docLink = document.createElement('div');\n",
              "        docLink.innerHTML = docLinkHtml;\n",
              "        element.appendChild(docLink);\n",
              "      }\n",
              "    </script>\n",
              "  </div>\n",
              "\n",
              "    </div>\n",
              "  </div>\n"
            ],
            "application/vnd.google.colaboratory.intrinsic+json": {
              "type": "dataframe",
              "variable_name": "df",
              "summary": "{\n  \"name\": \"df\",\n  \"rows\": 116,\n  \"fields\": [\n    {\n      \"column\": \"\\u043d\\u043e\\u043c\\u0435\\u0440 \\u0437\\u0430\\u043a\\u0430\\u0437\\u0430\",\n      \"properties\": {\n        \"dtype\": \"number\",\n        \"std\": 155,\n        \"min\": 6645,\n        \"max\": 7512,\n        \"num_unique_values\": 116,\n        \"samples\": [\n          7379,\n          7040,\n          7161\n        ],\n        \"semantic_type\": \"\",\n        \"description\": \"\"\n      }\n    },\n    {\n      \"column\": \"\\u043a\\u0430\\u043d\\u0430\\u043b \\u043f\\u0440\\u043e\\u0434\\u0430\\u0436\",\n      \"properties\": {\n        \"dtype\": \"category\",\n        \"num_unique_values\": 6,\n        \"samples\": [\n          \"\\u0420\\u0435\\u043a\\u043e\\u043c\\u0435\\u043d\\u0434\\u0430\\u0446\\u0438\\u044f\",\n          \"\\u0425\\u043e\\u043b\\u043e\\u0434\\u043d\\u044b\\u0439 \\u0437\\u0432\\u043e\\u043d\\u043e\\u043a\",\n          \"\\u0412\\u0435\\u0431\\u0441\\u0430\\u0439\\u0442\"\n        ],\n        \"semantic_type\": \"\",\n        \"description\": \"\"\n      }\n    },\n    {\n      \"column\": \"\\u043f\\u0440\\u043e\\u0434\\u0443\\u043a\\u0442\\u043e\\u0432\\u044b\\u0439 \\u0441\\u0435\\u0433\\u043c\\u0435\\u043d\\u0442\",\n      \"properties\": {\n        \"dtype\": \"category\",\n        \"num_unique_values\": 15,\n        \"samples\": [\n          \"\\u0423\\u043f\\u0430\\u043a\\u043e\\u0432\\u043a\\u0430\",\n          \"\\u0421\\u043f\\u043e\\u0440\\u0442 \\u0442\\u043e\\u0432\\u0430\\u0440\\u044b\",\n          \"\\u0422\\u043a\\u0430\\u043d\\u044c \\u0438 \\u0430\\u043a\\u0441\\u0435\\u0441\\u0441\\u0443\\u0430\\u0440\\u044b\"\n        ],\n        \"semantic_type\": \"\",\n        \"description\": \"\"\n      }\n    },\n    {\n      \"column\": \"\\u043c\\u0435\\u043d\\u0435\\u0434\\u0436\\u0435\\u0440\",\n      \"properties\": {\n        \"dtype\": \"category\",\n        \"num_unique_values\": 6,\n        \"samples\": [\n          \"\\u0421. \\u041c\\u0438\\u043b\\u0435\\u0440\",\n          \"\\u041c. \\u0411\\u0430\\u0438\\u043b\\u0438\",\n          \"\\u0410. \\u041f\\u0435\\u0440\\u0440\\u0438\"\n        ],\n        \"semantic_type\": \"\",\n        \"description\": \"\"\n      }\n    },\n    {\n      \"column\": \"\\u043d\\u0430\\u0437\\u0432\\u0430\\u043d\\u0438\\u0435 \\u0437\\u0430\\u043a\\u0430\\u0437\\u0430\",\n      \"properties\": {\n        \"dtype\": \"string\",\n        \"num_unique_values\": 92,\n        \"samples\": [\n          \"\\u041a\\u0430\\u0431\\u0435\\u043b\\u044c lcl\",\n          \"PUJIANG SALE CRAFT CO.,LTD\",\n          \"IAE 5528 / P 40996\"\n        ],\n        \"semantic_type\": \"\",\n        \"description\": \"\"\n      }\n    },\n    {\n      \"column\": \"\\u043f\\u0440\\u043e\\u0434\\u0430\\u0432\\u0435\\u0446\",\n      \"properties\": {\n        \"dtype\": \"category\",\n        \"num_unique_values\": 31,\n        \"samples\": [\n          \"Expert\",\n          \"Leorada +\",\n          \"SDF Logystics\"\n        ],\n        \"semantic_type\": \"\",\n        \"description\": \"\"\n      }\n    },\n    {\n      \"column\": \"\\u0433\\u043e\\u0440\\u043e\\u0434\",\n      \"properties\": {\n        \"dtype\": \"category\",\n        \"num_unique_values\": 23,\n        \"samples\": [\n          \"\\u041d\\u043e\\u0432\\u043e\\u0441\\u0438\\u0431\\u0438\\u0440\\u0441\\u043a\",\n          \"\\u0421\\u043e\\u0447\\u0438\",\n          \"\\u0421\\u0430\\u043d\\u043a\\u0442-\\u041f\\u0435\\u0442\\u0435\\u0440\\u0431\\u0443\\u0440\\u0433\"\n        ],\n        \"semantic_type\": \"\",\n        \"description\": \"\"\n      }\n    },\n    {\n      \"column\": \"\\u043f\\u0440\\u043e\\u0434\\u0430\\u0436\\u0438 \\u0444\\u0430\\u043a\\u0442, \\u0442\\u044b\\u0441.\\u0440\\u0443\\u0431\",\n      \"properties\": {\n        \"dtype\": \"number\",\n        \"std\": 547.3435766769675,\n        \"min\": 0.0,\n        \"max\": 2400.0,\n        \"num_unique_values\": 48,\n        \"samples\": [\n          145.0,\n          2200.0,\n          740.0\n        ],\n        \"semantic_type\": \"\",\n        \"description\": \"\"\n      }\n    },\n    {\n      \"column\": \"\\u043f\\u0440\\u043e\\u0434\\u0430\\u0436\\u0438 \\u043f\\u043b\\u0430\\u043d, \\u0442\\u044b\\u0441.\\u0440\\u0443\\u0431\",\n      \"properties\": {\n        \"dtype\": \"number\",\n        \"std\": 250.14988010938717,\n        \"min\": 500.0,\n        \"max\": 1000.0,\n        \"num_unique_values\": 2,\n        \"samples\": [\n          1000.0,\n          500.0\n        ],\n        \"semantic_type\": \"\",\n        \"description\": \"\"\n      }\n    },\n    {\n      \"column\": \"\\u0434\\u0430\\u0442\\u0430 \\u0441\\u0434\\u0435\\u043b\\u043a\\u0438\",\n      \"properties\": {\n        \"dtype\": \"date\",\n        \"min\": \"2019-06-03 00:00:00\",\n        \"max\": \"2020-06-27 00:00:00\",\n        \"num_unique_values\": 62,\n        \"samples\": [\n          \"2020-02-28 00:00:00\",\n          \"2020-06-19 00:00:00\"\n        ],\n        \"semantic_type\": \"\",\n        \"description\": \"\"\n      }\n    },\n    {\n      \"column\": \"\\u0434\\u0430\\u0442\\u0430 \\u043e\\u043f\\u043b\\u0430\\u0442\\u044b\",\n      \"properties\": {\n        \"dtype\": \"date\",\n        \"min\": \"2020-01-04 00:00:00\",\n        \"max\": \"2020-06-25 00:00:00\",\n        \"num_unique_values\": 48,\n        \"samples\": [\n          \"2020-03-13 00:00:00\",\n          \"2020-06-05 00:00:00\"\n        ],\n        \"semantic_type\": \"\",\n        \"description\": \"\"\n      }\n    },\n    {\n      \"column\": \"\\u0434\\u043d\\u0435\\u0439 \\u043c\\u0435\\u0436\\u0434\\u0443 \\u0441\\u0434\\u0435\\u043b\\u043a\\u043e\\u0439 \\u0438 \\u043e\\u043f\\u043b\\u0430\\u0442\\u043e\\u0439\",\n      \"properties\": {\n        \"dtype\": \"category\",\n        \"num_unique_values\": 40,\n        \"samples\": [\n          82,\n          83\n        ],\n        \"semantic_type\": \"\",\n        \"description\": \"\"\n      }\n    },\n    {\n      \"column\": \"\\u0441\\u0442\\u0430\\u0442\\u0443\\u0441\",\n      \"properties\": {\n        \"dtype\": \"category\",\n        \"num_unique_values\": 3,\n        \"samples\": [\n          \"\\u0417\\u0430\\u043a\\u0440\\u044b\\u0442\\u043e\",\n          \"\\u0412 \\u043f\\u0440\\u043e\\u0446\\u0435\\u0441\\u0441\\u0435\"\n        ],\n        \"semantic_type\": \"\",\n        \"description\": \"\"\n      }\n    },\n    {\n      \"column\": \"\\u0441\\u0443\\u043c\\u043c\\u0430\\u0440\\u043d\\u044b\\u0435 \\u043f\\u0440\\u043e\\u0434\\u0430\\u0436\\u0438\",\n      \"properties\": {\n        \"dtype\": \"number\",\n        \"std\": 2625.8038509317907,\n        \"min\": 0.0,\n        \"max\": 8700.0,\n        \"num_unique_values\": 20,\n        \"samples\": [\n          1370.0,\n          8700.0\n        ],\n        \"semantic_type\": \"\",\n        \"description\": \"\"\n      }\n    }\n  ]\n}"
            }
          },
          "metadata": {},
          "execution_count": 7
        }
      ],
      "source": [
        "#Youre code is here\n",
        "df.columns\n",
        "df.columns = df.columns.str.lower()\n",
        "df.columns\n",
        "df['дата сделки'] = pd.to_datetime(df['дата сделки'])\n",
        "df['дата оплаты'] = pd.to_datetime(df['дата оплаты'])\n",
        "df.head(2)\n",
        "\n",
        "df.isnull().sum()\n",
        "df['продажи факт, тыс.руб'] = df['продажи факт, тыс.руб'].astype(float)\n",
        "df['продажи план, тыс.руб'] = df['продажи план, тыс.руб'].astype(float)\n",
        "df = df.drop_duplicates()\n",
        "\n",
        "df.isnull().sum()\n",
        "\n",
        "df = df.apply(lambda col: col.where(~col.isna(), pd.NA))\n",
        "df['дней между сделкой и оплатой'] = df['дней между сделкой и оплатой'].fillna(0)\n",
        "df['дней между сделкой и оплатой'] = df['дней между сделкой и оплатой'].replace(0, pd.NA)\n",
        "\n",
        "\n",
        "df['суммарные продажи'] = df.groupby('город')['продажи факт, тыс.руб'].transform('sum')\n",
        "df.head(1)"
      ]
    },
    {
      "cell_type": "markdown",
      "metadata": {
        "id": "tdqaYhVOf-Pw"
      },
      "source": [
        "# Исследовательский анализ данных\n",
        "\n",
        "Проведите исследовательский анализ данных\n",
        "\n",
        "Посмотрите, как менеджеры выполняют план продаж.  Какова помесячная динамика выполнения плана, есть ли сезонные «просадки»? Важны ли данные за все периоды? Посмотрите, как менялись продажи по продуктовым сегментам. Выберите сегменты с наибольшими суммарными продажами и постройте распределение по месяцам. Есть ли популярные в прошлом сегменты, у которых сейчас продажи на нуле.\n",
        "\n",
        "Какова география продаж, какие регионы самые доходные?\n",
        "\n",
        "Как влияет канал продаж на выполнение плана, конверсию, длительность сделки?\n",
        "\n",
        "Какие товарные категории пользуются спросом (по числу клиентов) и по продажам?"
      ]
    },
    {
      "cell_type": "code",
      "execution_count": 8,
      "metadata": {
        "colab": {
          "base_uri": "https://localhost:8080/"
        },
        "id": "MLJC6mJgf-Pw",
        "outputId": "825df446-89e7-48a9-c3fb-77b41dbadea0"
      },
      "outputs": [
        {
          "output_type": "stream",
          "name": "stdout",
          "text": [
            "         продажи факт, тыс.руб  продажи план, тыс.руб  выполнение плана (%)\n",
            "месяц                                                                      \n",
            "2019-06                    0.0                  500.0              0.000000\n",
            "2019-07                    0.0                 1000.0              0.000000\n",
            "2019-10                  700.0                 1000.0             70.000000\n",
            "2019-11                  620.0                 1000.0             62.000000\n",
            "2019-12                  920.0                 3500.0             26.285714\n",
            "2020-01                17935.0                14000.0            128.107143\n",
            "2020-02                15574.0                17500.0             88.994286\n",
            "2020-03                11032.0                14000.0             78.800000\n",
            "2020-04                 2225.0                 4000.0             55.625000\n",
            "2020-05                10625.0                 9000.0            118.055556\n",
            "2020-06                 7580.0                19000.0             39.894737\n"
          ]
        }
      ],
      "source": [
        "#Youre code is here\n",
        "df['месяц'] = df['дата сделки'].dt.to_period('M')\n",
        "monthly_performance = df.groupby('месяц').agg({'продажи факт, тыс.руб': 'sum', 'продажи план, тыс.руб': 'sum'})\n",
        "monthly_performance['выполнение плана (%)'] = (monthly_performance['продажи факт, тыс.руб'] / monthly_performance['продажи план, тыс.руб']) * 100\n",
        "print(monthly_performance)"
      ]
    },
    {
      "cell_type": "code",
      "source": [
        "import matplotlib.pyplot as plt\n",
        "\n",
        "monthly_performance[['продажи факт, тыс.руб', 'продажи план, тыс.руб']].plot(kind='bar')\n",
        "plt.title('Помесячная динамика выполнения плана')\n",
        "plt.ylabel('Тысяч рублей')\n",
        "plt.xticks(rotation=45)\n",
        "plt.show()"
      ],
      "metadata": {
        "colab": {
          "base_uri": "https://localhost:8080/",
          "height": 509
        },
        "id": "Wjdo3bBmhIEQ",
        "outputId": "2dfb519e-6927-4b1a-a094-707037591d44"
      },
      "execution_count": 9,
      "outputs": [
        {
          "output_type": "display_data",
          "data": {
            "text/plain": [
              "<Figure size 640x480 with 1 Axes>"
            ],
            "image/png": "[encoded data removed]"
          },
          "metadata": {}
        }
      ]
    },
    {
      "cell_type": "code",
      "source": [
        "segment_performance = df.groupby(['продуктовый сегмент', 'месяц']).agg({'продажи факт, тыс.руб': 'sum'}).reset_index()\n",
        "\n",
        "# Выбор сегментов с наибольшими суммарными продажами\n",
        "total_sales_by_segment = df.groupby('продуктовый сегмент')['продажи факт, тыс.руб'].sum().sort_values(ascending=False)\n",
        "print(total_sales_by_segment)\n",
        "\n",
        "# Проверка сегментов с нулевыми продажами\n",
        "zero_sales_segments = segment_performance[segment_performance['продажи факт, тыс.руб'] == 0]\n",
        "print(zero_sales_segments)"
      ],
      "metadata": {
        "colab": {
          "base_uri": "https://localhost:8080/"
        },
        "id": "yTziGawThK24",
        "outputId": "2528d990-33ed-4a27-e151-b7e25dae736b"
      },
      "execution_count": 10,
      "outputs": [
        {
          "output_type": "stream",
          "name": "stdout",
          "text": [
            "продуктовый сегмент\n",
            "Оборудование              35099.0\n",
            "Другое                     7225.0\n",
            "Свет                       6950.0\n",
            "Ткань и аксессуары         5712.0\n",
            "Одежда                     4650.0\n",
            "Электронные устройства     2130.0\n",
            "Бассейн                    1500.0\n",
            "Сувениры                    970.0\n",
            "Спорт товары                750.0\n",
            "Автозапчасти                700.0\n",
            "Упаковка                    675.0\n",
            "Медецина                    400.0\n",
            "Игрушки                     250.0\n",
            "Косметика                   200.0\n",
            "Охота и рыбалка               0.0\n",
            "Name: продажи факт, тыс.руб, dtype: float64\n",
            "       продуктовый сегмент    месяц  продажи факт, тыс.руб\n",
            "2                   Другое  2019-12                    0.0\n",
            "6                  Игрушки  2020-06                    0.0\n",
            "10            Оборудование  2019-12                    0.0\n",
            "20         Охота и рыбалка  2020-01                    0.0\n",
            "28      Ткань и аксессуары  2019-06                    0.0\n",
            "35      Ткань и аксессуары  2020-06                    0.0\n",
            "39  Электронные устройства  2019-07                    0.0\n",
            "44  Электронные устройства  2020-06                    0.0\n"
          ]
        }
      ]
    },
    {
      "cell_type": "code",
      "source": [
        "regional_performance = df.groupby('город')['продажи факт, тыс.руб'].sum().sort_values(ascending=False)\n",
        "print(regional_performance)"
      ],
      "metadata": {
        "colab": {
          "base_uri": "https://localhost:8080/"
        },
        "id": "aNnYE8frhOt3",
        "outputId": "1f3c1102-b434-4612-d376-3f38957f95b4"
      },
      "execution_count": 11,
      "outputs": [
        {
          "output_type": "stream",
          "name": "stdout",
          "text": [
            "город\n",
            "Челябинск          8700.0\n",
            "Казань             8040.0\n",
            "Магнитогорск       7680.0\n",
            "Сочи               6950.0\n",
            "Новосибирск        5725.0\n",
            "Самара             5574.0\n",
            "Уфа                4350.0\n",
            "Волгоград          4250.0\n",
            "Москва             3717.0\n",
            "Оренбург           2750.0\n",
            "Тула               1850.0\n",
            "Нижний Новгород    1635.0\n",
            "Кемерово           1500.0\n",
            "Санкт-Петербург    1370.0\n",
            "Улан-Удэ            970.0\n",
            "Пермь               770.0\n",
            "Курск               700.0\n",
            "Саратов             430.0\n",
            "Омск                250.0\n",
            "Севастополь           0.0\n",
            "Стоврополь            0.0\n",
            "Липецк                0.0\n",
            "Ярославль             0.0\n",
            "Name: продажи факт, тыс.руб, dtype: float64\n"
          ]
        }
      ]
    },
    {
      "cell_type": "code",
      "source": [
        "channel_performance = df.groupby('канал продаж').agg({\n",
        "    'продажи факт, тыс.руб': 'sum',\n",
        "    'продажи план, тыс.руб': 'sum',\n",
        "    'статус': lambda x: (x == 'Закрыто').sum()\n",
        "})\n",
        "channel_performance['конверсия (%)'] = (channel_performance['статус'] / channel_performance['продажи план, тыс.руб']) * 100\n",
        "print(channel_performance)"
      ],
      "metadata": {
        "colab": {
          "base_uri": "https://localhost:8080/"
        },
        "id": "zJBgVv6XhR9Q",
        "outputId": "f3a1fd95-5188-4402-d59a-7243b00996b5"
      },
      "execution_count": 12,
      "outputs": [
        {
          "output_type": "stream",
          "name": "stdout",
          "text": [
            "                     продажи факт, тыс.руб  продажи план, тыс.руб  статус  \\\n",
            "канал продаж                                                                \n",
            "Вебсайт                              800.0                 2000.0       2   \n",
            "Выставка                           28644.0                35500.0      28   \n",
            "Контекстная реклама                 2450.0                 7000.0       5   \n",
            "Почта                               1550.0                 3500.0       3   \n",
            "Рекомендация                       18035.0                17000.0      25   \n",
            "Холодный звонок                    15732.0                19500.0      30   \n",
            "\n",
            "                     конверсия (%)  \n",
            "канал продаж                        \n",
            "Вебсайт                   0.100000  \n",
            "Выставка                  0.078873  \n",
            "Контекстная реклама       0.071429  \n",
            "Почта                     0.085714  \n",
            "Рекомендация              0.147059  \n",
            "Холодный звонок           0.153846  \n"
          ]
        }
      ]
    },
    {
      "cell_type": "code",
      "source": [
        "print(df.dtypes)\n",
        "df['дней между сделкой и оплатой'] = pd.to_numeric(df['дней между сделкой и оплатой'], errors='coerce')"
      ],
      "metadata": {
        "colab": {
          "base_uri": "https://localhost:8080/"
        },
        "id": "9S4W9kXghlgh",
        "outputId": "86579d73-b2db-4bed-c8dc-c9e2a6520531"
      },
      "execution_count": 14,
      "outputs": [
        {
          "output_type": "stream",
          "name": "stdout",
          "text": [
            "номер заказа                             int64\n",
            "канал продаж                            object\n",
            "продуктовый сегмент                     object\n",
            "менеджер                                object\n",
            "название заказа                         object\n",
            "продавец                                object\n",
            "город                                   object\n",
            "продажи факт, тыс.руб                  float64\n",
            "продажи план, тыс.руб                  float64\n",
            "дата сделки                     datetime64[ns]\n",
            "дата оплаты                     datetime64[ns]\n",
            "дней между сделкой и оплатой            object\n",
            "статус                                  object\n",
            "суммарные продажи                      float64\n",
            "месяц                                period[M]\n",
            "dtype: object\n"
          ]
        }
      ]
    },
    {
      "cell_type": "code",
      "source": [
        "average_duration = df.groupby('канал продаж')['дней между сделкой и оплатой'].mean()\n",
        "print(average_duration)"
      ],
      "metadata": {
        "colab": {
          "base_uri": "https://localhost:8080/"
        },
        "id": "u_Fr1xArhrCw",
        "outputId": "a8de2ae0-5f29-4898-879f-20bdaf53ea71"
      },
      "execution_count": 15,
      "outputs": [
        {
          "output_type": "stream",
          "name": "stdout",
          "text": [
            "канал продаж\n",
            "Вебсайт                20.000000\n",
            "Выставка                9.214286\n",
            "Контекстная реклама    29.800000\n",
            "Почта                  57.000000\n",
            "Рекомендация           26.440000\n",
            "Холодный звонок        44.033333\n",
            "Name: дней между сделкой и оплатой, dtype: float64\n"
          ]
        }
      ]
    },
    {
      "cell_type": "code",
      "source": [
        "category_performance = df.groupby('продуктовый сегмент').agg({\n",
        "    'продавец': 'nunique',  # Количество уникальных клиентов\n",
        "    'продажи факт, тыс.руб': 'sum'\n",
        "}).sort_values(by='продажи факт, тыс.руб', ascending=False)\n",
        "print(category_performance)"
      ],
      "metadata": {
        "colab": {
          "base_uri": "https://localhost:8080/"
        },
        "id": "Dsf0mFrMhuC5",
        "outputId": "5ea01017-c5ff-4604-f550-163292d60bae"
      },
      "execution_count": 16,
      "outputs": [
        {
          "output_type": "stream",
          "name": "stdout",
          "text": [
            "                        продавец  продажи факт, тыс.руб\n",
            "продуктовый сегмент                                    \n",
            "Оборудование                   7                35099.0\n",
            "Другое                         4                 7225.0\n",
            "Свет                           2                 6950.0\n",
            "Ткань и аксессуары             6                 5712.0\n",
            "Одежда                         4                 4650.0\n",
            "Электронные устройства         4                 2130.0\n",
            "Бассейн                        1                 1500.0\n",
            "Сувениры                       1                  970.0\n",
            "Спорт товары                   1                  750.0\n",
            "Автозапчасти                   1                  700.0\n",
            "Упаковка                       1                  675.0\n",
            "Медецина                       1                  400.0\n",
            "Игрушки                        1                  250.0\n",
            "Косметика                      1                  200.0\n",
            "Охота и рыбалка                1                    0.0\n"
          ]
        }
      ]
    },
    {
      "cell_type": "code",
      "source": [
        "zero_sales_segments = category_performance[category_performance['продажи факт, тыс.руб'] == 0]\n",
        "print(zero_sales_segments)"
      ],
      "metadata": {
        "colab": {
          "base_uri": "https://localhost:8080/"
        },
        "id": "jZcQWD2PhwIo",
        "outputId": "33e98a8e-1c1f-46e8-fc16-5e268877c2a9"
      },
      "execution_count": 17,
      "outputs": [
        {
          "output_type": "stream",
          "name": "stdout",
          "text": [
            "                     продавец  продажи факт, тыс.руб\n",
            "продуктовый сегмент                                 \n",
            "Охота и рыбалка             1                    0.0\n"
          ]
        }
      ]
    },
    {
      "cell_type": "markdown",
      "metadata": {
        "id": "LCYgtBDKf-Pw"
      },
      "source": [
        "# Общий вывод\n",
        "На основании исследовательского анализа сделайте вывод относительно того, что стоит ли\n",
        " - Профилировать ли менеджеров по товарным категориям или каналам продаж (где они лучше закрывают сделки, выполняют план)\n",
        " - Расширять самые доходные каналы продаж, регионы, где есть высокий спрос"
      ]
    },
    {
      "cell_type": "code",
      "execution_count": null,
      "metadata": {
        "id": "ap5ueVvKf-Pw"
      },
      "outputs": [],
      "source": []
    },
    {
      "cell_type": "markdown",
      "source": [
        "Эффективность по каналам\n",
        "\n",
        "Анализ показывает, что каналы, такие как \"Рекомендация\" и \"Холодный звонок\", демонстрируют высокие показатели конверсии — 14.7% и 15.4% соответственно. Это свидетельствует о том, что менеджеры, работающие в этих направлениях, более успешно завершают сделки. В то же время каналы с низкой конверсией, такие как \"Вебсайт\" и \"Контекстная реклама\", требуют внимания для повышения своих результатов.\n",
        "Длительность сделки\n",
        "Средняя продолжительность сделки колеблется от 9.2 дней (выставка) до 57 дней (почта). Это может указывать на то, что некоторые каналы требуют больше времени для завершения сделок. Рекомендуется проанализировать причины длительности сделок в этих каналах.\n",
        "Рекомендация\n",
        "\n",
        "Следует профилировать менеджеров по успешным каналам и категориям товаров, чтобы выявить их сильные стороны. Это поможет направить ресурсы на обучение и развитие навыков в менее эффективных каналах.\n",
        "Расширение самых доходных каналов продаж\n",
        "Каналы с высоким доходом: Канал \"Выставка\" приносит наибольшие объемы продаж — 28,644 тыс. руб., что делает его одним из самых прибыльных. Канал \"Рекомендация\" также показывает хорошие результаты с продажами на уровне 18,035 тыс. руб. Рекомендуется инвестировать в наиболее доходные каналы, такие как \"Выставка\" и \"Рекомендация\". Это может включать увеличение маркетингового бюджета или улучшение условий для клиентов.\n",
        "География продаж\n",
        "\n",
        "Самые прибыльные регионы: Челябинск (8,700 тыс. руб.), Казань (8,040 тыс. руб.) и Магнитогорск (7,680 тыс. руб.) являются лидерами по доходам. В то же время Севастополь, Ставрополь и Липецк показывают нулевые продажи, что может указывать на недостаток маркетинга или интереса к продуктам в этих областях. Рекомендуется сосредоточиться на регионах с высоким спросом, таких как Челябинск и Казань, для увеличения объемов продаж, а также рассмотреть возможность проведения маркетинговых кампаний в регионах с нулевыми продажами для повышения осведомленности о продуктах.\n",
        "Заключение\n",
        "\n",
        "На основании проведенного анализа можно сделать вывод о необходимости профилирования менеджеров по их эффективности в различных каналах и категориях товаров. Также стоит рассмотреть возможность расширения успешных каналов продаж и активизации работы в регионах с высоким спросом."
      ],
      "metadata": {
        "id": "RiFbE0x5iDrg"
      }
    }
  ],
  "metadata": {
    "kernelspec": {
      "display_name": "Python 3",
      "language": "python",
      "name": "python3"
    },
    "language_info": {
      "codemirror_mode": {
        "name": "ipython",
        "version": 3
      },
      "file_extension": ".py",
      "mimetype": "text/x-python",
      "name": "python",
      "nbconvert_exporter": "python",
      "pygments_lexer": "ipython3",
      "version": "3.7.6"
    },
    "colab": {
      "provenance": [],
      "include_colab_link": true
    }
  },
  "nbformat": 4,
  "nbformat_minor": 0
}